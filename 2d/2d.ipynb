{
 "cells": [
  {
   "cell_type": "markdown",
   "metadata": {},
   "source": [
    "# Transfer the 2D from scikit-learn"
   ]
  },
  {
   "cell_type": "markdown",
   "metadata": {},
   "source": [
    "1. `prior`: mean, var, degree of smoothness (over a given length scale)\n",
    "2. observed data pts with some noise lvl\n",
    "3. apply bayes theorem to obtain a new `posterior` dist'n of funcs\n",
    "* mean pass through data, reduced var near to data pts.\n",
    "4. use posterior mean to pred unseen samples, interpret the posterior var as a measure of uncertainty in those pred."
   ]
  },
  {
   "cell_type": "markdown",
   "metadata": {},
   "source": [
    "yet for N data pts, need N by N matrix, expensive --> length scale & noise lvl r unkown in practice, selecting their val \\\n",
    "needs optimisation process, hence GP does NOT scale well to large data sets."
   ]
  },
  {
   "cell_type": "markdown",
   "metadata": {},
   "source": [
    "1st I will follow the tut of scikit-learn, then I will make the transfer afterwards."
   ]
  },
  {
   "cell_type": "markdown",
   "metadata": {},
   "source": [
    "## scikit-learn tut"
   ]
  },
  {
   "cell_type": "markdown",
   "metadata": {},
   "source": [
    "### 2D GP regre in sk-learn"
   ]
  },
  {
   "cell_type": "markdown",
   "metadata": {},
   "source": [
    "Suppose we have a few samples of a function of two variables  z(x,y). We wish to interpolate  z \\\n",
    "  using Gaussian process regression over the available data. For this example, we consider the quadratic surface,\n"
   ]
  },
  {
   "attachments": {
    "image.png": {
     "image/png": "[encoded data removed]"
    }
   },
   "cell_type": "markdown",
   "metadata": {},
   "source": [
    "![image.png](attachment:image.png)"
   ]
  },
  {
   "cell_type": "markdown",
   "metadata": {},
   "source": [
    "#### Preliminaries"
   ]
  },
  {
   "cell_type": "code",
   "execution_count": 44,
   "metadata": {},
   "outputs": [],
   "source": [
    "import numpy as np\n",
    "\n",
    "import matplotlib.pyplot as plt\n",
    "import matplotlib.lines as mlines\n",
    "\n",
    "from sklearn.gaussian_process import GaussianProcessRegressor\n",
    "from sklearn.gaussian_process.kernels import RBF, WhiteKernel\n",
    "from sklearn.model_selection import train_test_split\n",
    "\n",
    "np.random.seed(17)  # So you can reproduce these results at home"
   ]
  },
  {
   "cell_type": "markdown",
   "metadata": {},
   "source": [
    "evaluating  z over a regular grid to represent our ground truth:"
   ]
  },
  {
   "cell_type": "code",
   "execution_count": 45,
   "metadata": {},
   "outputs": [],
   "source": [
    "nv = 20  # Number of points in each direction\n",
    "xv = np.linspace(-5.,5.,nv)  # x-vector\n",
    "yv = np.linspace(-5.,5.,nv)  # y-vector\n",
    "x, y = np.meshgrid(xv, yv)  # x and y are (nv, nv) matrices\n",
    "# the function\n",
    "z = (x-3.)**2. + 2.*x*y + (2.*y+3.)**2. - 3."
   ]
  },
  {
   "cell_type": "markdown",
   "metadata": {},
   "source": [
    "add noise"
   ]
  },
  {
   "cell_type": "code",
   "execution_count": 46,
   "metadata": {},
   "outputs": [],
   "source": [
    "noise_level = 5.\n",
    "z_noisy = z + np.random.normal(size=x.shape) * noise_level"
   ]
  },
  {
   "cell_type": "markdown",
   "metadata": {},
   "source": [
    "scikit-learn expects each input and output as column vectors, so we must reshape the grid:"
   ]
  },
  {
   "cell_type": "code",
   "execution_count": 47,
   "metadata": {},
   "outputs": [],
   "source": [
    "X = np.column_stack((x.reshape(-1), y.reshape(-1)))\n",
    "Z = z_noisy.reshape(-1,1)"
   ]
  },
  {
   "cell_type": "markdown",
   "metadata": {},
   "source": [
    "#### Performing the fit"
   ]
  },
  {
   "cell_type": "markdown",
   "metadata": {},
   "source": [
    "need to first specify out `proir` functional dist'n, and use kernel (mathematical function, to specify how smooth the func should be) \\\n",
    "kernel quantifies correlation (or covariance) btw 2 pts in our input space (2d here)\n",
    "- For example, points closer together might be more strongly correlated than points farther apart.\n",
    "- The kernel essentially encodes how changes in one part of the function relate to changes in another, ensuring a certain degree of smoothness or regularity."
   ]
  },
  {
   "cell_type": "code",
   "execution_count": 48,
   "metadata": {},
   "outputs": [],
   "source": [
    "# In Gaussian Processes, length scales determine how far points in the input space can influence each other. \n",
    "# A longer length scale indicates smoother variations, while a shorter length scale indicates more localized influence.\n",
    "guess_l = (2., 1.)  # In general, x and y have different scales\n",
    "bounds_l = ((1e-1,100.),) * 2  # Same bounds for x and y (0.1 to 100)\n",
    "guess_n = 1.  # Amount of noise\n",
    "bounds_n = (1e-20, 10.) # Bounds for noise\n",
    "kernel = (  # Kernel objects can simply be summed using +\n",
    "    RBF(length_scale=guess_l, length_scale_bounds=bounds_l)\n",
    "    + WhiteKernel(noise_level=guess_n, noise_level_bounds=bounds_n)\n",
    ")"
   ]
  },
  {
   "cell_type": "markdown",
   "metadata": {},
   "source": [
    "5% for training, rest for test"
   ]
  },
  {
   "cell_type": "code",
   "execution_count": 49,
   "metadata": {},
   "outputs": [],
   "source": [
    "X_train, X_test, Y_train, Y_test = train_test_split(X, Z, test_size=0.95)"
   ]
  },
  {
   "cell_type": "markdown",
   "metadata": {},
   "source": [
    "At last, we can do the fitting. Passing `normalize_y=True` scales the function values to zero mean and unit variance before fitting. \\\n",
    "This is equivalent to choosing `priors`: \n",
    "- the `mean` of z is equal to the training sample mean; \n",
    "- and the `variance` of z is equal to the training sample variance."
   ]
  },
  {
   "cell_type": "code",
   "execution_count": 50,
   "metadata": {},
   "outputs": [
    {
     "data": {
      "text/html": [
       "<style>#sk-container-id-2 {\n",
       "  /* Definition of color scheme common for light and dark mode */\n",
       "  --sklearn-color-text: black;\n",
       "  --sklearn-color-line: gray;\n",
       "  /* Definition of color scheme for unfitted estimators */\n",
       "  --sklearn-color-unfitted-level-0: #fff5e6;\n",
       "  --sklearn-color-unfitted-level-1: #f6e4d2;\n",
       "  --sklearn-color-unfitted-level-2: #ffe0b3;\n",
       "  --sklearn-color-unfitted-level-3: chocolate;\n",
       "  /* Definition of color scheme for fitted estimators */\n",
       "  --sklearn-color-fitted-level-0: #f0f8ff;\n",
       "  --sklearn-color-fitted-level-1: #d4ebff;\n",
       "  --sklearn-color-fitted-level-2: #b3dbfd;\n",
       "  --sklearn-color-fitted-level-3: cornflowerblue;\n",
       "\n",
       "  /* Specific color for light theme */\n",
       "  --sklearn-color-text-on-default-background: var(--sg-text-color, var(--theme-code-foreground, var(--jp-content-font-color1, black)));\n",
       "  --sklearn-color-background: var(--sg-background-color, var(--theme-background, var(--jp-layout-color0, white)));\n",
       "  --sklearn-color-border-box: var(--sg-text-color, var(--theme-code-foreground, var(--jp-content-font-color1, black)));\n",
       "  --sklearn-color-icon: #696969;\n",
       "\n",
       "  @media (prefers-color-scheme: dark) {\n",
       "    /* Redefinition of color scheme for dark theme */\n",
       "    --sklearn-color-text-on-default-background: var(--sg-text-color, var(--theme-code-foreground, var(--jp-content-font-color1, white)));\n",
       "    --sklearn-color-background: var(--sg-background-color, var(--theme-background, var(--jp-layout-color0, #111)));\n",
       "    --sklearn-color-border-box: var(--sg-text-color, var(--theme-code-foreground, var(--jp-content-font-color1, white)));\n",
       "    --sklearn-color-icon: #878787;\n",
       "  }\n",
       "}\n",
       "\n",
       "#sk-container-id-2 {\n",
       "  color: var(--sklearn-color-text);\n",
       "}\n",
       "\n",
       "#sk-container-id-2 pre {\n",
       "  padding: 0;\n",
       "}\n",
       "\n",
       "#sk-container-id-2 input.sk-hidden--visually {\n",
       "  border: 0;\n",
       "  clip: rect(1px 1px 1px 1px);\n",
       "  clip: rect(1px, 1px, 1px, 1px);\n",
       "  height: 1px;\n",
       "  margin: -1px;\n",
       "  overflow: hidden;\n",
       "  padding: 0;\n",
       "  position: absolute;\n",
       "  width: 1px;\n",
       "}\n",
       "\n",
       "#sk-container-id-2 div.sk-dashed-wrapped {\n",
       "  border: 1px dashed var(--sklearn-color-line);\n",
       "  margin: 0 0.4em 0.5em 0.4em;\n",
       "  box-sizing: border-box;\n",
       "  padding-bottom: 0.4em;\n",
       "  background-color: var(--sklearn-color-background);\n",
       "}\n",
       "\n",
       "#sk-container-id-2 div.sk-container {\n",
       "  /* jupyter's `normalize.less` sets `[hidden] { display: none; }`\n",
       "     but bootstrap.min.css set `[hidden] { display: none !important; }`\n",
       "     so we also need the `!important` here to be able to override the\n",
       "     default hidden behavior on the sphinx rendered scikit-learn.org.\n",
       "     See: https://github.com/scikit-learn/scikit-learn/issues/21755 */\n",
       "  display: inline-block !important;\n",
       "  position: relative;\n",
       "}\n",
       "\n",
       "#sk-container-id-2 div.sk-text-repr-fallback {\n",
       "  display: none;\n",
       "}\n",
       "\n",
       "div.sk-parallel-item,\n",
       "div.sk-serial,\n",
       "div.sk-item {\n",
       "  /* draw centered vertical line to link estimators */\n",
       "  background-image: linear-gradient(var(--sklearn-color-text-on-default-background), var(--sklearn-color-text-on-default-background));\n",
       "  background-size: 2px 100%;\n",
       "  background-repeat: no-repeat;\n",
       "  background-position: center center;\n",
       "}\n",
       "\n",
       "/* Parallel-specific style estimator block */\n",
       "\n",
       "#sk-container-id-2 div.sk-parallel-item::after {\n",
       "  content: \"\";\n",
       "  width: 100%;\n",
       "  border-bottom: 2px solid var(--sklearn-color-text-on-default-background);\n",
       "  flex-grow: 1;\n",
       "}\n",
       "\n",
       "#sk-container-id-2 div.sk-parallel {\n",
       "  display: flex;\n",
       "  align-items: stretch;\n",
       "  justify-content: center;\n",
       "  background-color: var(--sklearn-color-background);\n",
       "  position: relative;\n",
       "}\n",
       "\n",
       "#sk-container-id-2 div.sk-parallel-item {\n",
       "  display: flex;\n",
       "  flex-direction: column;\n",
       "}\n",
       "\n",
       "#sk-container-id-2 div.sk-parallel-item:first-child::after {\n",
       "  align-self: flex-end;\n",
       "  width: 50%;\n",
       "}\n",
       "\n",
       "#sk-container-id-2 div.sk-parallel-item:last-child::after {\n",
       "  align-self: flex-start;\n",
       "  width: 50%;\n",
       "}\n",
       "\n",
       "#sk-container-id-2 div.sk-parallel-item:only-child::after {\n",
       "  width: 0;\n",
       "}\n",
       "\n",
       "/* Serial-specific style estimator block */\n",
       "\n",
       "#sk-container-id-2 div.sk-serial {\n",
       "  display: flex;\n",
       "  flex-direction: column;\n",
       "  align-items: center;\n",
       "  background-color: var(--sklearn-color-background);\n",
       "  padding-right: 1em;\n",
       "  padding-left: 1em;\n",
       "}\n",
       "\n",
       "\n",
       "/* Toggleable style: style used for estimator/Pipeline/ColumnTransformer box that is\n",
       "clickable and can be expanded/collapsed.\n",
       "- Pipeline and ColumnTransformer use this feature and define the default style\n",
       "- Estimators will overwrite some part of the style using the `sk-estimator` class\n",
       "*/\n",
       "\n",
       "/* Pipeline and ColumnTransformer style (default) */\n",
       "\n",
       "#sk-container-id-2 div.sk-toggleable {\n",
       "  /* Default theme specific background. It is overwritten whether we have a\n",
       "  specific estimator or a Pipeline/ColumnTransformer */\n",
       "  background-color: var(--sklearn-color-background);\n",
       "}\n",
       "\n",
       "/* Toggleable label */\n",
       "#sk-container-id-2 label.sk-toggleable__label {\n",
       "  cursor: pointer;\n",
       "  display: block;\n",
       "  width: 100%;\n",
       "  margin-bottom: 0;\n",
       "  padding: 0.5em;\n",
       "  box-sizing: border-box;\n",
       "  text-align: center;\n",
       "}\n",
       "\n",
       "#sk-container-id-2 label.sk-toggleable__label-arrow:before {\n",
       "  /* Arrow on the left of the label */\n",
       "  content: \"▸\";\n",
       "  float: left;\n",
       "  margin-right: 0.25em;\n",
       "  color: var(--sklearn-color-icon);\n",
       "}\n",
       "\n",
       "#sk-container-id-2 label.sk-toggleable__label-arrow:hover:before {\n",
       "  color: var(--sklearn-color-text);\n",
       "}\n",
       "\n",
       "/* Toggleable content - dropdown */\n",
       "\n",
       "#sk-container-id-2 div.sk-toggleable__content {\n",
       "  max-height: 0;\n",
       "  max-width: 0;\n",
       "  overflow: hidden;\n",
       "  text-align: left;\n",
       "  /* unfitted */\n",
       "  background-color: var(--sklearn-color-unfitted-level-0);\n",
       "}\n",
       "\n",
       "#sk-container-id-2 div.sk-toggleable__content.fitted {\n",
       "  /* fitted */\n",
       "  background-color: var(--sklearn-color-fitted-level-0);\n",
       "}\n",
       "\n",
       "#sk-container-id-2 div.sk-toggleable__content pre {\n",
       "  margin: 0.2em;\n",
       "  border-radius: 0.25em;\n",
       "  color: var(--sklearn-color-text);\n",
       "  /* unfitted */\n",
       "  background-color: var(--sklearn-color-unfitted-level-0);\n",
       "}\n",
       "\n",
       "#sk-container-id-2 div.sk-toggleable__content.fitted pre {\n",
       "  /* unfitted */\n",
       "  background-color: var(--sklearn-color-fitted-level-0);\n",
       "}\n",
       "\n",
       "#sk-container-id-2 input.sk-toggleable__control:checked~div.sk-toggleable__content {\n",
       "  /* Expand drop-down */\n",
       "  max-height: 200px;\n",
       "  max-width: 100%;\n",
       "  overflow: auto;\n",
       "}\n",
       "\n",
       "#sk-container-id-2 input.sk-toggleable__control:checked~label.sk-toggleable__label-arrow:before {\n",
       "  content: \"▾\";\n",
       "}\n",
       "\n",
       "/* Pipeline/ColumnTransformer-specific style */\n",
       "\n",
       "#sk-container-id-2 div.sk-label input.sk-toggleable__control:checked~label.sk-toggleable__label {\n",
       "  color: var(--sklearn-color-text);\n",
       "  background-color: var(--sklearn-color-unfitted-level-2);\n",
       "}\n",
       "\n",
       "#sk-container-id-2 div.sk-label.fitted input.sk-toggleable__control:checked~label.sk-toggleable__label {\n",
       "  background-color: var(--sklearn-color-fitted-level-2);\n",
       "}\n",
       "\n",
       "/* Estimator-specific style */\n",
       "\n",
       "/* Colorize estimator box */\n",
       "#sk-container-id-2 div.sk-estimator input.sk-toggleable__control:checked~label.sk-toggleable__label {\n",
       "  /* unfitted */\n",
       "  background-color: var(--sklearn-color-unfitted-level-2);\n",
       "}\n",
       "\n",
       "#sk-container-id-2 div.sk-estimator.fitted input.sk-toggleable__control:checked~label.sk-toggleable__label {\n",
       "  /* fitted */\n",
       "  background-color: var(--sklearn-color-fitted-level-2);\n",
       "}\n",
       "\n",
       "#sk-container-id-2 div.sk-label label.sk-toggleable__label,\n",
       "#sk-container-id-2 div.sk-label label {\n",
       "  /* The background is the default theme color */\n",
       "  color: var(--sklearn-color-text-on-default-background);\n",
       "}\n",
       "\n",
       "/* On hover, darken the color of the background */\n",
       "#sk-container-id-2 div.sk-label:hover label.sk-toggleable__label {\n",
       "  color: var(--sklearn-color-text);\n",
       "  background-color: var(--sklearn-color-unfitted-level-2);\n",
       "}\n",
       "\n",
       "/* Label box, darken color on hover, fitted */\n",
       "#sk-container-id-2 div.sk-label.fitted:hover label.sk-toggleable__label.fitted {\n",
       "  color: var(--sklearn-color-text);\n",
       "  background-color: var(--sklearn-color-fitted-level-2);\n",
       "}\n",
       "\n",
       "/* Estimator label */\n",
       "\n",
       "#sk-container-id-2 div.sk-label label {\n",
       "  font-family: monospace;\n",
       "  font-weight: bold;\n",
       "  display: inline-block;\n",
       "  line-height: 1.2em;\n",
       "}\n",
       "\n",
       "#sk-container-id-2 div.sk-label-container {\n",
       "  text-align: center;\n",
       "}\n",
       "\n",
       "/* Estimator-specific */\n",
       "#sk-container-id-2 div.sk-estimator {\n",
       "  font-family: monospace;\n",
       "  border: 1px dotted var(--sklearn-color-border-box);\n",
       "  border-radius: 0.25em;\n",
       "  box-sizing: border-box;\n",
       "  margin-bottom: 0.5em;\n",
       "  /* unfitted */\n",
       "  background-color: var(--sklearn-color-unfitted-level-0);\n",
       "}\n",
       "\n",
       "#sk-container-id-2 div.sk-estimator.fitted {\n",
       "  /* fitted */\n",
       "  background-color: var(--sklearn-color-fitted-level-0);\n",
       "}\n",
       "\n",
       "/* on hover */\n",
       "#sk-container-id-2 div.sk-estimator:hover {\n",
       "  /* unfitted */\n",
       "  background-color: var(--sklearn-color-unfitted-level-2);\n",
       "}\n",
       "\n",
       "#sk-container-id-2 div.sk-estimator.fitted:hover {\n",
       "  /* fitted */\n",
       "  background-color: var(--sklearn-color-fitted-level-2);\n",
       "}\n",
       "\n",
       "/* Specification for estimator info (e.g. \"i\" and \"?\") */\n",
       "\n",
       "/* Common style for \"i\" and \"?\" */\n",
       "\n",
       ".sk-estimator-doc-link,\n",
       "a:link.sk-estimator-doc-link,\n",
       "a:visited.sk-estimator-doc-link {\n",
       "  float: right;\n",
       "  font-size: smaller;\n",
       "  line-height: 1em;\n",
       "  font-family: monospace;\n",
       "  background-color: var(--sklearn-color-background);\n",
       "  border-radius: 1em;\n",
       "  height: 1em;\n",
       "  width: 1em;\n",
       "  text-decoration: none !important;\n",
       "  margin-left: 1ex;\n",
       "  /* unfitted */\n",
       "  border: var(--sklearn-color-unfitted-level-1) 1pt solid;\n",
       "  color: var(--sklearn-color-unfitted-level-1);\n",
       "}\n",
       "\n",
       ".sk-estimator-doc-link.fitted,\n",
       "a:link.sk-estimator-doc-link.fitted,\n",
       "a:visited.sk-estimator-doc-link.fitted {\n",
       "  /* fitted */\n",
       "  border: var(--sklearn-color-fitted-level-1) 1pt solid;\n",
       "  color: var(--sklearn-color-fitted-level-1);\n",
       "}\n",
       "\n",
       "/* On hover */\n",
       "div.sk-estimator:hover .sk-estimator-doc-link:hover,\n",
       ".sk-estimator-doc-link:hover,\n",
       "div.sk-label-container:hover .sk-estimator-doc-link:hover,\n",
       ".sk-estimator-doc-link:hover {\n",
       "  /* unfitted */\n",
       "  background-color: var(--sklearn-color-unfitted-level-3);\n",
       "  color: var(--sklearn-color-background);\n",
       "  text-decoration: none;\n",
       "}\n",
       "\n",
       "div.sk-estimator.fitted:hover .sk-estimator-doc-link.fitted:hover,\n",
       ".sk-estimator-doc-link.fitted:hover,\n",
       "div.sk-label-container:hover .sk-estimator-doc-link.fitted:hover,\n",
       ".sk-estimator-doc-link.fitted:hover {\n",
       "  /* fitted */\n",
       "  background-color: var(--sklearn-color-fitted-level-3);\n",
       "  color: var(--sklearn-color-background);\n",
       "  text-decoration: none;\n",
       "}\n",
       "\n",
       "/* Span, style for the box shown on hovering the info icon */\n",
       ".sk-estimator-doc-link span {\n",
       "  display: none;\n",
       "  z-index: 9999;\n",
       "  position: relative;\n",
       "  font-weight: normal;\n",
       "  right: .2ex;\n",
       "  padding: .5ex;\n",
       "  margin: .5ex;\n",
       "  width: min-content;\n",
       "  min-width: 20ex;\n",
       "  max-width: 50ex;\n",
       "  color: var(--sklearn-color-text);\n",
       "  box-shadow: 2pt 2pt 4pt #999;\n",
       "  /* unfitted */\n",
       "  background: var(--sklearn-color-unfitted-level-0);\n",
       "  border: .5pt solid var(--sklearn-color-unfitted-level-3);\n",
       "}\n",
       "\n",
       ".sk-estimator-doc-link.fitted span {\n",
       "  /* fitted */\n",
       "  background: var(--sklearn-color-fitted-level-0);\n",
       "  border: var(--sklearn-color-fitted-level-3);\n",
       "}\n",
       "\n",
       ".sk-estimator-doc-link:hover span {\n",
       "  display: block;\n",
       "}\n",
       "\n",
       "/* \"?\"-specific style due to the `<a>` HTML tag */\n",
       "\n",
       "#sk-container-id-2 a.estimator_doc_link {\n",
       "  float: right;\n",
       "  font-size: 1rem;\n",
       "  line-height: 1em;\n",
       "  font-family: monospace;\n",
       "  background-color: var(--sklearn-color-background);\n",
       "  border-radius: 1rem;\n",
       "  height: 1rem;\n",
       "  width: 1rem;\n",
       "  text-decoration: none;\n",
       "  /* unfitted */\n",
       "  color: var(--sklearn-color-unfitted-level-1);\n",
       "  border: var(--sklearn-color-unfitted-level-1) 1pt solid;\n",
       "}\n",
       "\n",
       "#sk-container-id-2 a.estimator_doc_link.fitted {\n",
       "  /* fitted */\n",
       "  border: var(--sklearn-color-fitted-level-1) 1pt solid;\n",
       "  color: var(--sklearn-color-fitted-level-1);\n",
       "}\n",
       "\n",
       "/* On hover */\n",
       "#sk-container-id-2 a.estimator_doc_link:hover {\n",
       "  /* unfitted */\n",
       "  background-color: var(--sklearn-color-unfitted-level-3);\n",
       "  color: var(--sklearn-color-background);\n",
       "  text-decoration: none;\n",
       "}\n",
       "\n",
       "#sk-container-id-2 a.estimator_doc_link.fitted:hover {\n",
       "  /* fitted */\n",
       "  background-color: var(--sklearn-color-fitted-level-3);\n",
       "}\n",
       "</style><div id=\"sk-container-id-2\" class=\"sk-top-container\"><div class=\"sk-text-repr-fallback\"><pre>GaussianProcessRegressor(kernel=RBF(length_scale=[2, 1]) + WhiteKernel(noise_level=1),\n",
       "                         normalize_y=True)</pre><b>In a Jupyter environment, please rerun this cell to show the HTML representation or trust the notebook. <br />On GitHub, the HTML representation is unable to render, please try loading this page with nbviewer.org.</b></div><div class=\"sk-container\" hidden><div class=\"sk-item\"><div class=\"sk-estimator fitted sk-toggleable\"><input class=\"sk-toggleable__control sk-hidden--visually\" id=\"sk-estimator-id-2\" type=\"checkbox\" checked><label for=\"sk-estimator-id-2\" class=\"sk-toggleable__label fitted sk-toggleable__label-arrow fitted\">&nbsp;&nbsp;GaussianProcessRegressor<a class=\"sk-estimator-doc-link fitted\" rel=\"noreferrer\" target=\"_blank\" href=\"https://scikit-learn.org/1.5/modules/generated/sklearn.gaussian_process.GaussianProcessRegressor.html\">?<span>Documentation for GaussianProcessRegressor</span></a><span class=\"sk-estimator-doc-link fitted\">i<span>Fitted</span></span></label><div class=\"sk-toggleable__content fitted\"><pre>GaussianProcessRegressor(kernel=RBF(length_scale=[2, 1]) + WhiteKernel(noise_level=1),\n",
       "                         normalize_y=True)</pre></div> </div></div></div></div>"
      ],
      "text/plain": [
       "GaussianProcessRegressor(kernel=RBF(length_scale=[2, 1]) + WhiteKernel(noise_level=1),\n",
       "                         normalize_y=True)"
      ]
     },
     "execution_count": 50,
     "metadata": {},
     "output_type": "execute_result"
    }
   ],
   "source": [
    "gpr = GaussianProcessRegressor(kernel, normalize_y=True )\n",
    "gpr.fit(X_train, Y_train)"
   ]
  },
  {
   "cell_type": "markdown",
   "metadata": {},
   "source": [
    "inspect the fitted kernel params:"
   ]
  },
  {
   "cell_type": "code",
   "execution_count": 51,
   "metadata": {},
   "outputs": [
    {
     "name": "stdout",
     "output_type": "stream",
     "text": [
      "RBF(length_scale=[7.86, 3.71]) + WhiteKernel(noise_level=0.00678)\n"
     ]
    }
   ],
   "source": [
    "print(gpr.kernel_)\n",
    "# RBF(length_scale=[7.86, 3.71]) + WhiteKernel(noise_level=0.00678)"
   ]
  },
  {
   "cell_type": "markdown",
   "metadata": {},
   "source": [
    "#### Plotting the results"
   ]
  },
  {
   "cell_type": "markdown",
   "metadata": {},
   "source": [
    "With our fitted regressor object, we can evaluate the `posterior` mean and standard deviation over the input data, and convert back to a grid for plotting:"
   ]
  },
  {
   "cell_type": "code",
   "execution_count": 52,
   "metadata": {},
   "outputs": [],
   "source": [
    "Zfit, Zstd = gpr.predict(X, return_std=True)\n",
    "zstd = Zstd.reshape(x.shape)\n",
    "zfit = Zfit.reshape(x.shape)"
   ]
  },
  {
   "cell_type": "markdown",
   "metadata": {},
   "source": [
    "First, compare the true function with the fitted posterior mean:"
   ]
  },
  {
   "cell_type": "code",
   "execution_count": 53,
   "metadata": {},
   "outputs": [
    {
     "data": {
      "image/png": "[encoded data removed]",
      "text/plain": [
       "<Figure size 600x400 with 1 Axes>"
      ]
     },
     "metadata": {},
     "output_type": "display_data"
    }
   ],
   "source": [
    "# Set up figure\n",
    "fig, ax = plt.subplots(figsize=(6., 4.))\n",
    "ax.set_xlabel('$x$')\n",
    "ax.set_ylabel('$y$')\n",
    "ax.set_xlim((-5,5))\n",
    "ax.set_ylim((-5,5))\n",
    "ax.set_aspect('equal')\n",
    "ax.set_xticks((-5,0,5))\n",
    "ax.set_yticks((-5,0,5))\n",
    "ax.grid(False)\n",
    "\n",
    "# Do the plotting\n",
    "lev = np.linspace(0.,250.,6)  # Defines contour levels ranging from 0 to 250, split into 6 evenly spaced intervals. \n",
    "ax.contour(x,y,z,lev,colors='k')  # Truth\n",
    "ax.plot(*X_train.T,'o',color=\"C1\")  # Training samples\n",
    "ax.contour(x, y,zfit, lev, colors='C0', linestyles='dashed')  # Posterior mean\n",
    "\n",
    "# Legend\n",
    "truth_line = mlines.Line2D([], [], color='black', label='True $z(x,y)$')\n",
    "sample_line = mlines.Line2D([], [], color='C1', marker=\"o\", linestyle=\"none\", label='Train samples')\n",
    "mean_line = mlines.Line2D([], [], color='C0', linestyle=\"--\", label='Posterior mean')\n",
    "ax.legend(handles=[truth_line, sample_line, mean_line],bbox_to_anchor=(1.05, 1), loc=\"upper left\")\n",
    "\n",
    "# Write out\n",
    "plt.tight_layout()\n",
    "plt.savefig('gpr_posterior_mean.svg')"
   ]
  },
  {
   "cell_type": "markdown",
   "metadata": {},
   "source": [
    "The figure shows good agreement between the contours.\n",
    "Second, plot the variation in posterior standard deviation."
   ]
  },
  {
   "cell_type": "code",
   "execution_count": 54,
   "metadata": {},
   "outputs": [
    {
     "name": "stderr",
     "output_type": "stream",
     "text": [
      "C:\\Users\\shend\\AppData\\Local\\Temp\\ipykernel_45272\\1057023286.py:16: MatplotlibDeprecationWarning: The collections attribute was deprecated in Matplotlib 3.8 and will be removed in 3.10.\n",
      "  for hci in hc.collections:\n"
     ]
    },
    {
     "data": {
      "image/png": "[encoded data removed]",
      "text/plain": [
       "<Figure size 600x400 with 2 Axes>"
      ]
     },
     "metadata": {},
     "output_type": "display_data"
    }
   ],
   "source": [
    "# Set up figure\n",
    "fig, ax = plt.subplots(figsize=(6., 4.))\n",
    "ax.set_xlabel('$x$')\n",
    "ax.set_ylabel('$y$')\n",
    "ax.set_xlim((-5,5))\n",
    "ax.set_ylim((-5,5))\n",
    "ax.set_aspect('equal')\n",
    "ax.set_xticks((-5,0,5))\n",
    "ax.set_yticks((-5,0,5))\n",
    "ax.grid(False)\n",
    "\n",
    "# Do the plotting\n",
    "ax.plot(*X_train.T,'o',color=\"C1\")  # Training samples\n",
    "lev = np.linspace(6.,16.,11)\n",
    "hc = ax.contourf(x, y, zstd, lev)  # Posterior std\n",
    "for hci in hc.collections:\n",
    "  hci.set_edgecolor(\"face\")\n",
    "\n",
    "# Colorbar\n",
    "hcb = plt.colorbar(hc)\n",
    "hcb.ax.grid(False)\n",
    "hcb.set_label('Posterior standard deviation')\n",
    "\n",
    "# Write out\n",
    "plt.tight_layout()\n",
    "plt.savefig('gpr_posterior_std.svg')\n"
   ]
  },
  {
   "cell_type": "markdown",
   "metadata": {},
   "source": [
    "#### Bonus one-linear"
   ]
  },
  {
   "cell_type": "markdown",
   "metadata": {},
   "source": [
    "Here is a shell command that extracts all code blocks from a markdown file and writes them out to a new Python script:"
   ]
  },
  {
   "cell_type": "markdown",
   "metadata": {},
   "source": [
    "`jupyter nbconvert --to script your_notebook.ipynb`"
   ]
  },
  {
   "cell_type": "markdown",
   "metadata": {},
   "source": [
    "## Transfer to Gpytorch"
   ]
  },
  {
   "cell_type": "markdown",
   "metadata": {},
   "source": [
    "### Basic Equation"
   ]
  },
  {
   "cell_type": "markdown",
   "metadata": {},
   "source": [
    "z(x, y) = (x - 3)^2 + 2xy + (2y + 3)^2 - 3"
   ]
  },
  {
   "cell_type": "markdown",
   "metadata": {},
   "source": [
    "#### Gpytorch Perliminaries"
   ]
  },
  {
   "cell_type": "code",
   "execution_count": 55,
   "metadata": {},
   "outputs": [
    {
     "name": "stdout",
     "output_type": "stream",
     "text": [
      "The autoreload extension is already loaded. To reload it, use:\n",
      "  %reload_ext autoreload\n"
     ]
    }
   ],
   "source": [
    "import math\n",
    "import torch\n",
    "import gpytorch\n",
    "from matplotlib import pyplot as plt\n",
    "\n",
    "%matplotlib inline\n",
    "%load_ext autoreload\n",
    "%autoreload 2\n",
    "\n",
    "np.random.seed(41)"
   ]
  },
  {
   "cell_type": "markdown",
   "metadata": {},
   "source": [
    "2D data"
   ]
  },
  {
   "cell_type": "code",
   "execution_count": 56,
   "metadata": {},
   "outputs": [],
   "source": [
    "nv = 20  # Number of points in each direction\n",
    "xv = np.linspace(-5.,5.,nv)  # x-vector\n",
    "yv = np.linspace(-5.,5.,nv)  # y-vector\n",
    "x, y = np.meshgrid(xv, yv)  # x and y are (nv, nv) matrices\n",
    "\n",
    "# true the function\n",
    "z = (x-3.)**2. + 2.*x*y + (2.*y+3.)**2. - 3."
   ]
  },
  {
   "cell_type": "code",
   "execution_count": 57,
   "metadata": {},
   "outputs": [],
   "source": [
    "noise_level = 5.\n",
    "z_noisy = z + np.random.normal(size=x.shape) * noise_level"
   ]
  },
  {
   "cell_type": "code",
   "execution_count": 58,
   "metadata": {},
   "outputs": [],
   "source": [
    "# Flatten the data for training\n",
    "X = np.column_stack((x.ravel(), y.ravel()))  # shape (nv*nv, 2)\n",
    "Z = z_noisy.ravel()  # shape (nv*nv,)"
   ]
  },
  {
   "cell_type": "code",
   "execution_count": 59,
   "metadata": {},
   "outputs": [],
   "source": [
    "# Train/test split\n",
    "X_train, X_test, Y_train, Y_test = train_test_split(X, Z, test_size=0.95, random_state=42)"
   ]
  },
  {
   "cell_type": "code",
   "execution_count": 60,
   "metadata": {},
   "outputs": [],
   "source": [
    "# Convert to torch Tensors\n",
    "X_train_t = torch.tensor(X_train, dtype=torch.float)\n",
    "Y_train_t = torch.tensor(Y_train, dtype=torch.float)\n",
    "X_test_t = torch.tensor(X_test, dtype=torch.float)\n",
    "Y_test_t = torch.tensor(Y_test, dtype=torch.float)"
   ]
  },
  {
   "cell_type": "markdown",
   "metadata": {},
   "source": [
    "#### GPytorch Model"
   ]
  },
  {
   "cell_type": "code",
   "execution_count": 61,
   "metadata": {},
   "outputs": [],
   "source": [
    "# ExactGPModel from gpytorch that we need to form the model together\n",
    "class ExactGPModel(gpytorch.models.ExactGP):\n",
    "    def __init__(self, train_x, train_y, likelihood):\n",
    "        super(ExactGPModel, self).__init__(train_x, train_y, likelihood)\n",
    "        \n",
    "        # Mean module (can also try ZeroMean, ConstantMean, etc.)\n",
    "        self.mean_module = gpytorch.means.ConstantMean()\n",
    "        \n",
    "        # RBF kernel with ARD for 2D input, scaled by a separate outputscale\n",
    "        self.covar_module = gpytorch.kernels.ScaleKernel(\n",
    "            base_kernel=gpytorch.kernels.RBFKernel(ard_num_dims=2)\n",
    "        )\n",
    "\n",
    "    def forward(self, x):\n",
    "        mean_x = self.mean_module(x)\n",
    "        covar_x = self.covar_module(x)\n",
    "        return gpytorch.distributions.MultivariateNormal(mean_x, covar_x)"
   ]
  },
  {
   "cell_type": "markdown",
   "metadata": {},
   "source": [
    "#### Set up & Training"
   ]
  },
  {
   "cell_type": "code",
   "execution_count": 62,
   "metadata": {},
   "outputs": [],
   "source": [
    "# Define likelihood (noise)\n",
    "likelihood = gpytorch.likelihoods.GaussianLikelihood()\n",
    "# Create GP model\n",
    "model = ExactGPModel(X_train_t, Y_train_t, likelihood)"
   ]
  },
  {
   "cell_type": "code",
   "execution_count": 63,
   "metadata": {},
   "outputs": [],
   "source": [
    "# Initialize hyperparameters (if desired)\n",
    "#   - By default, GPyTorch will learn these from data,\n",
    "#     but you can initialize them similarly to the scikit guesses:\n",
    "model.covar_module.base_kernel.lengthscale = torch.tensor([2.0, 1.0])  # guess 1\n",
    "model.likelihood.noise = 1.0  # guess 1\n",
    "\n",
    "# Optionally, set constraints similar to scikit's bounds:\n",
    "model.covar_module.base_kernel.raw_lengthscale_constraint = gpytorch.constraints.Interval(0.1, 100.0)\n",
    "model.likelihood.raw_noise_constraint = gpytorch.constraints.Interval(1e-20, 10.0)"
   ]
  },
  {
   "cell_type": "code",
   "execution_count": 64,
   "metadata": {},
   "outputs": [],
   "source": [
    "# Switch to training mode\n",
    "model.train()\n",
    "likelihood.train()\n",
    "\n",
    "# Use the Adam optimizer\n",
    "optimizer = torch.optim.Adam(model.parameters(), lr=0.1)\n",
    "\n",
    "# Marginal Log-Likelihood\n",
    "mll = gpytorch.mlls.ExactMarginalLogLikelihood(likelihood, model)"
   ]
  },
  {
   "cell_type": "code",
   "execution_count": 65,
   "metadata": {},
   "outputs": [],
   "source": [
    "# define training_itreations\n",
    "training_iterations = 500"
   ]
  },
  {
   "cell_type": "code",
   "execution_count": 66,
   "metadata": {},
   "outputs": [
    {
     "name": "stdout",
     "output_type": "stream",
     "text": [
      "Iter 5/500 - Loss: 1698.933 lengthscale: [[90.454025 53.545834]] noise: 1.269\n",
      "Iter 10/500 - Loss: 1303.046 lengthscale: [[93.65318  40.896935]] noise: 1.630\n",
      "Iter 15/500 - Loss: 1037.228 lengthscale: [[95.52168  28.945345]] noise: 1.991\n",
      "Iter 20/500 - Loss: 837.135 lengthscale: [[96.62298  18.925596]] noise: 2.327\n",
      "Iter 25/500 - Loss: 670.539 lengthscale: [[97.27275  11.487369]] noise: 2.624\n",
      "Iter 30/500 - Loss: 534.505 lengthscale: [[97.59573    6.6262584]] noise: 2.874\n",
      "Iter 35/500 - Loss: 398.037 lengthscale: [[97.6241     3.6846635]] noise: 3.078\n",
      "Iter 40/500 - Loss: 333.136 lengthscale: [[97.40002    2.1190445]] noise: 3.235\n",
      "Iter 45/500 - Loss: 313.538 lengthscale: [[96.96525    1.4687294]] noise: 3.356\n",
      "Iter 50/500 - Loss: 298.177 lengthscale: [[96.3339     1.2168944]] noise: 3.451\n",
      "Iter 55/500 - Loss: 283.411 lengthscale: [[95.4688     1.1292284]] noise: 3.529\n",
      "Iter 60/500 - Loss: 269.947 lengthscale: [[94.22802    1.1180863]] noise: 3.596\n",
      "Iter 65/500 - Loss: 258.212 lengthscale: [[92.241104   1.1438571]] noise: 3.654\n",
      "Iter 70/500 - Loss: 248.196 lengthscale: [[88.55927    1.1844723]] noise: 3.707\n",
      "Iter 75/500 - Loss: 239.581 lengthscale: [[80.72202    1.2266339]] noise: 3.756\n",
      "Iter 80/500 - Loss: 231.783 lengthscale: [[64.48489   1.262986]] noise: 3.804\n",
      "Iter 85/500 - Loss: 223.441 lengthscale: [[41.53425   1.291882]] noise: 3.850\n",
      "Iter 90/500 - Loss: 210.076 lengthscale: [[21.592949   1.3221272]] noise: 3.895\n",
      "Iter 95/500 - Loss: 183.474 lengthscale: [[9.31711   1.3900284]] noise: 3.936\n",
      "Iter 100/500 - Loss: 171.353 lengthscale: [[3.9434633 1.5552603]] noise: 3.971\n",
      "Iter 105/500 - Loss: 161.894 lengthscale: [[4.173306  1.8115824]] noise: 4.000\n",
      "Iter 110/500 - Loss: 154.502 lengthscale: [[6.2133937 2.0918539]] noise: 4.025\n",
      "Iter 115/500 - Loss: 151.604 lengthscale: [[6.5665593 2.315232 ]] noise: 4.047\n",
      "Iter 120/500 - Loss: 147.120 lengthscale: [[5.297868 2.421836]] noise: 4.068\n",
      "Iter 125/500 - Loss: 144.533 lengthscale: [[4.7372675 2.4076684]] noise: 4.088\n",
      "Iter 130/500 - Loss: 140.828 lengthscale: [[5.211064  2.3205898]] noise: 4.107\n",
      "Iter 135/500 - Loss: 138.109 lengthscale: [[5.6526847 2.2237885]] noise: 4.125\n",
      "Iter 140/500 - Loss: 135.380 lengthscale: [[5.420683  2.1525903]] noise: 4.143\n",
      "Iter 145/500 - Loss: 132.962 lengthscale: [[5.0646114 2.1144388]] noise: 4.160\n",
      "Iter 150/500 - Loss: 130.642 lengthscale: [[5.0712323 2.1032484]] noise: 4.177\n",
      "Iter 155/500 - Loss: 128.407 lengthscale: [[5.2612534 2.1098368]] noise: 4.194\n",
      "Iter 160/500 - Loss: 126.302 lengthscale: [[5.285734  2.1248388]] noise: 4.211\n",
      "Iter 165/500 - Loss: 124.278 lengthscale: [[5.1590223 2.1393182]] noise: 4.227\n",
      "Iter 170/500 - Loss: 122.361 lengthscale: [[5.099139 2.147081]] noise: 4.244\n",
      "Iter 175/500 - Loss: 120.515 lengthscale: [[5.144217  2.1466746]] noise: 4.260\n",
      "Iter 180/500 - Loss: 118.747 lengthscale: [[5.1724606 2.1403697]] noise: 4.276\n",
      "Iter 185/500 - Loss: 117.044 lengthscale: [[5.132717 2.131229]] noise: 4.292\n",
      "Iter 190/500 - Loss: 115.407 lengthscale: [[5.089465 2.121501]] noise: 4.308\n",
      "Iter 195/500 - Loss: 113.828 lengthscale: [[5.0864983 2.112677 ]] noise: 4.324\n",
      "Iter 200/500 - Loss: 112.307 lengthscale: [[5.0941834 2.1056612]] noise: 4.339\n",
      "Iter 205/500 - Loss: 110.837 lengthscale: [[5.080523  2.1005452]] noise: 4.355\n",
      "Iter 210/500 - Loss: 109.416 lengthscale: [[5.057494  2.0966897]] noise: 4.370\n",
      "Iter 215/500 - Loss: 108.042 lengthscale: [[5.0463305 2.0932856]] noise: 4.385\n",
      "Iter 220/500 - Loss: 106.711 lengthscale: [[5.0433    2.0898178]] noise: 4.400\n",
      "Iter 225/500 - Loss: 105.422 lengthscale: [[5.0348625 2.0860732]] noise: 4.415\n",
      "Iter 230/500 - Loss: 104.172 lengthscale: [[5.020963  2.0819798]] noise: 4.430\n",
      "Iter 235/500 - Loss: 102.959 lengthscale: [[5.009698  2.0775669]] noise: 4.445\n",
      "Iter 240/500 - Loss: 101.782 lengthscale: [[5.0023174 2.0729814]] noise: 4.460\n",
      "Iter 245/500 - Loss: 100.637 lengthscale: [[4.994171 2.068406]] noise: 4.475\n",
      "Iter 250/500 - Loss: 99.525 lengthscale: [[4.9838758 2.0639524]] noise: 4.489\n",
      "Iter 255/500 - Loss: 98.443 lengthscale: [[4.974042  2.0596454]] noise: 4.504\n",
      "Iter 260/500 - Loss: 97.390 lengthscale: [[4.9658465 2.0554717]] noise: 4.518\n",
      "Iter 265/500 - Loss: 96.364 lengthscale: [[4.957867 2.05141 ]] noise: 4.532\n",
      "Iter 270/500 - Loss: 95.365 lengthscale: [[4.9492035 2.0474272]] noise: 4.547\n",
      "Iter 275/500 - Loss: 94.391 lengthscale: [[4.940576  2.0434864]] noise: 4.561\n",
      "Iter 280/500 - Loss: 93.441 lengthscale: [[4.932582  2.0395644]] noise: 4.575\n",
      "Iter 285/500 - Loss: 92.515 lengthscale: [[4.9248533 2.0356572]] noise: 4.589\n",
      "Iter 290/500 - Loss: 91.610 lengthscale: [[4.916979  2.0317736]] noise: 4.603\n",
      "Iter 295/500 - Loss: 90.727 lengthscale: [[4.909123  2.0279183]] noise: 4.617\n",
      "Iter 300/500 - Loss: 89.865 lengthscale: [[4.9015536 2.0240982]] noise: 4.631\n",
      "Iter 305/500 - Loss: 89.022 lengthscale: [[4.8941846 2.0203185]] noise: 4.644\n",
      "Iter 310/500 - Loss: 88.198 lengthscale: [[4.8868504 2.0165823]] noise: 4.658\n",
      "Iter 315/500 - Loss: 87.392 lengthscale: [[4.8795767 2.0128884]] noise: 4.672\n",
      "Iter 320/500 - Loss: 86.604 lengthscale: [[4.8724623 2.009235 ]] noise: 4.685\n",
      "Iter 325/500 - Loss: 85.833 lengthscale: [[4.865491 2.005619]] noise: 4.699\n",
      "Iter 330/500 - Loss: 85.078 lengthscale: [[4.858598  2.0020385]] noise: 4.712\n",
      "Iter 335/500 - Loss: 84.339 lengthscale: [[4.8517857 1.9984912]] noise: 4.725\n",
      "Iter 340/500 - Loss: 83.615 lengthscale: [[4.8450804 1.9949762]] noise: 4.739\n",
      "Iter 345/500 - Loss: 82.905 lengthscale: [[4.838486  1.9914935]] noise: 4.752\n",
      "Iter 350/500 - Loss: 82.210 lengthscale: [[4.8319774 1.9880425]] noise: 4.765\n",
      "Iter 355/500 - Loss: 81.529 lengthscale: [[4.825548  1.9846237]] noise: 4.778\n",
      "Iter 360/500 - Loss: 80.861 lengthscale: [[4.819208  1.9812367]] noise: 4.791\n",
      "Iter 365/500 - Loss: 80.206 lengthscale: [[4.8129625 1.977881 ]] noise: 4.804\n",
      "Iter 370/500 - Loss: 79.563 lengthscale: [[4.8067975 1.9745564]] noise: 4.817\n",
      "Iter 375/500 - Loss: 78.932 lengthscale: [[4.8007092 1.9712627]] noise: 4.830\n",
      "Iter 380/500 - Loss: 78.313 lengthscale: [[4.794702  1.9679992]] noise: 4.843\n",
      "Iter 385/500 - Loss: 77.705 lengthscale: [[4.788773  1.9647648]] noise: 4.855\n",
      "Iter 390/500 - Loss: 77.109 lengthscale: [[4.7829185 1.9615585]] noise: 4.868\n",
      "Iter 395/500 - Loss: 76.523 lengthscale: [[4.7771373 1.9583812]] noise: 4.881\n",
      "Iter 400/500 - Loss: 75.947 lengthscale: [[4.7714286 1.9552313]] noise: 4.893\n",
      "Iter 405/500 - Loss: 75.382 lengthscale: [[4.76579   1.9521104]] noise: 4.906\n",
      "Iter 410/500 - Loss: 74.826 lengthscale: [[4.7602205 1.9490162]] noise: 4.918\n",
      "Iter 415/500 - Loss: 74.280 lengthscale: [[4.7547197 1.9459492]] noise: 4.931\n",
      "Iter 420/500 - Loss: 73.743 lengthscale: [[4.7492843 1.9429083]] noise: 4.943\n",
      "Iter 425/500 - Loss: 73.215 lengthscale: [[4.743914  1.9398938]] noise: 4.956\n",
      "Iter 430/500 - Loss: 72.696 lengthscale: [[4.73861  1.936906]] noise: 4.968\n",
      "Iter 435/500 - Loss: 72.185 lengthscale: [[4.733366 1.933944]] noise: 4.980\n",
      "Iter 440/500 - Loss: 71.683 lengthscale: [[4.728184  1.9310083]] noise: 4.992\n",
      "Iter 445/500 - Loss: 71.189 lengthscale: [[4.723065  1.9280974]] noise: 5.005\n",
      "Iter 450/500 - Loss: 70.702 lengthscale: [[4.7180014 1.9252114]] noise: 5.017\n",
      "Iter 455/500 - Loss: 70.224 lengthscale: [[4.7130003 1.9223499]] noise: 5.029\n",
      "Iter 460/500 - Loss: 69.753 lengthscale: [[4.708055 1.919513]] noise: 5.041\n",
      "Iter 465/500 - Loss: 69.289 lengthscale: [[4.703166  1.9166995]] noise: 5.053\n",
      "Iter 470/500 - Loss: 68.832 lengthscale: [[4.698333  1.9139098]] noise: 5.065\n",
      "Iter 475/500 - Loss: 68.383 lengthscale: [[4.693556  1.9111434]] noise: 5.077\n",
      "Iter 480/500 - Loss: 67.940 lengthscale: [[4.688834 1.908401]] noise: 5.089\n",
      "Iter 485/500 - Loss: 67.504 lengthscale: [[4.684163  1.9056816]] noise: 5.100\n",
      "Iter 490/500 - Loss: 67.074 lengthscale: [[4.679546  1.9029863]] noise: 5.112\n",
      "Iter 495/500 - Loss: 66.651 lengthscale: [[4.6749845 1.9003133]] noise: 5.124\n",
      "Iter 500/500 - Loss: 66.233 lengthscale: [[4.6704698 1.8976631]] noise: 5.136\n"
     ]
    }
   ],
   "source": [
    "for i in range(training_iterations):\n",
    "    optimizer.zero_grad()\n",
    "    output = model(X_train_t)\n",
    "    loss = -mll(output, Y_train_t)\n",
    "    loss.backward()\n",
    "    \n",
    "    \n",
    "    if (i+1) % 5 == 0:\n",
    "        print(\n",
    "            f\"Iter {i+1}/{training_iterations} - Loss: {loss.item():.3f} \"\n",
    "            f\"lengthscale: {model.covar_module.base_kernel.lengthscale.detach().numpy()} \"\n",
    "            f\"noise: {model.likelihood.noise.item():.3f}\"\n",
    "        )\n",
    "        \n",
    "    optimizer.step()"
   ]
  },
  {
   "cell_type": "markdown",
   "metadata": {},
   "source": [
    "#### Fit and pred "
   ]
  },
  {
   "cell_type": "code",
   "execution_count": 67,
   "metadata": {},
   "outputs": [],
   "source": [
    "# Convert entire grid X to torch\n",
    "X_all_t = torch.tensor(X, dtype=torch.float)"
   ]
  },
  {
   "cell_type": "code",
   "execution_count": 68,
   "metadata": {},
   "outputs": [
    {
     "data": {
      "text/plain": [
       "GaussianLikelihood(\n",
       "  (noise_covar): HomoskedasticNoise(\n",
       "    (raw_noise_constraint): GreaterThan(1.000E-04)\n",
       "  )\n",
       "  (raw_noise_constraint): Interval(1.000E-20, 1.000E+01)\n",
       ")"
      ]
     },
     "execution_count": 68,
     "metadata": {},
     "output_type": "execute_result"
    }
   ],
   "source": [
    "# Switch to eval mode\n",
    "model.eval()\n",
    "likelihood.eval()"
   ]
  },
  {
   "cell_type": "code",
   "execution_count": 69,
   "metadata": {},
   "outputs": [],
   "source": [
    "with torch.no_grad(), gpytorch.settings.fast_pred_var():\n",
    "    preds = likelihood(model(X_all_t))\n",
    "    Zmean = preds.mean\n",
    "    Zstd = preds.stddev"
   ]
  },
  {
   "cell_type": "code",
   "execution_count": 70,
   "metadata": {},
   "outputs": [],
   "source": [
    "# Convert back to numpy\n",
    "Zmean = Zmean.numpy()\n",
    "Zstd = Zstd.numpy()\n",
    "\n",
    "# Reshape to the original 2D grid\n",
    "zfit = Zmean.reshape(x.shape)\n",
    "zstd = Zstd.reshape(x.shape)"
   ]
  },
  {
   "cell_type": "markdown",
   "metadata": {},
   "source": [
    "#### Plotting the results"
   ]
  },
  {
   "cell_type": "code",
   "execution_count": 71,
   "metadata": {},
   "outputs": [
    {
     "data": {
      "image/png": "[encoded data removed]",
      "text/plain": [
       "<Figure size 600x400 with 1 Axes>"
      ]
     },
     "metadata": {},
     "output_type": "display_data"
    }
   ],
   "source": [
    "# Set up figure\n",
    "fig, ax = plt.subplots(figsize=(6., 4.))\n",
    "ax.set_xlabel('$x$')\n",
    "ax.set_ylabel('$y$')\n",
    "ax.set_xlim((-5,5))\n",
    "ax.set_ylim((-5,5))\n",
    "ax.set_aspect('equal')\n",
    "ax.set_xticks((-5,0,5))\n",
    "ax.set_yticks((-5,0,5))\n",
    "ax.grid(False)\n",
    "\n",
    "# Do the plotting\n",
    "lev = np.linspace(0.,250.,6)  # Defines contour levels ranging from 0 to 250, split into 6 evenly spaced intervals. \n",
    "ax.contour(x,y,z,lev,colors='k')  # Truth\n",
    "ax.plot(*X_train.T,'o',color=\"C1\")  # Training samples\n",
    "ax.contour(x, y,zfit, lev, colors='C0', linestyles='dashed')  # Posterior mean\n",
    "\n",
    "# Legend\n",
    "truth_line = mlines.Line2D([], [], color='black', label='True $z(x,y)$')\n",
    "sample_line = mlines.Line2D([], [], color='C1', marker=\"o\", linestyle=\"none\", label='Train samples')\n",
    "mean_line = mlines.Line2D([], [], color='C0', linestyle=\"--\", label='Posterior mean')\n",
    "ax.legend(handles=[truth_line, sample_line, mean_line], bbox_to_anchor=(1.05, 1), loc=\"upper left\")\n",
    "\n",
    "# Write out\n",
    "plt.tight_layout()\n",
    "plt.savefig('gpytorch_gpr_posterior_mean.svg')\n",
    "plt.show()"
   ]
  },
  {
   "cell_type": "code",
   "execution_count": 80,
   "metadata": {},
   "outputs": [
    {
     "name": "stderr",
     "output_type": "stream",
     "text": [
      "C:\\Users\\shend\\AppData\\Local\\Temp\\ipykernel_45272\\1604118857.py:19: MatplotlibDeprecationWarning: The collections attribute was deprecated in Matplotlib 3.8 and will be removed in 3.10.\n",
      "  for hci in hc.collections:\n"
     ]
    },
    {
     "data": {
      "image/png": "[encoded data removed]",
      "text/plain": [
       "<Figure size 600x400 with 2 Axes>"
      ]
     },
     "metadata": {},
     "output_type": "display_data"
    }
   ],
   "source": [
    "fig, ax = plt.subplots(figsize=(6., 4.))\n",
    "ax.set_xlabel('$x$')\n",
    "ax.set_ylabel('$y$')\n",
    "ax.set_xlim((-5,5))\n",
    "ax.set_ylim((-5,5))\n",
    "ax.set_aspect('equal')\n",
    "ax.set_xticks((-5,0,5))\n",
    "ax.set_yticks((-5,0,5))\n",
    "ax.grid(False)\n",
    "\n",
    "# Plot training samples\n",
    "ax.plot(*X_train.T, 'o', color=\"C1\")\n",
    "\n",
    "# Levels for the standard deviation contours\n",
    "lev_std = np.linspace(math.floor(zstd.min()), math.ceil(zstd.max()), 11)\n",
    "\n",
    "# Contour fill of posterior standard deviation\n",
    "hc = ax.contourf(x, y, zstd, lev_std)\n",
    "for hci in hc.collections:\n",
    "    hci.set_edgecolor(\"face\")\n",
    "\n",
    "# Colorbar\n",
    "hcb = plt.colorbar(hc)\n",
    "hcb.ax.grid(False)\n",
    "hcb.set_label('Posterior standard deviation')\n",
    "\n",
    "plt.tight_layout()\n",
    "plt.savefig('gpytorch_posterior_std.svg')\n",
    "plt.show()"
   ]
  },
  {
   "cell_type": "code",
   "execution_count": 76,
   "metadata": {},
   "outputs": [
    {
     "name": "stdout",
     "output_type": "stream",
     "text": [
      "zstd min = 2.4822843 zstd max = 4.1258373\n"
     ]
    }
   ],
   "source": [
    "print(\"zstd min =\", zstd.min(), \"zstd max =\", zstd.max())"
   ]
  },
  {
   "cell_type": "code",
   "execution_count": null,
   "metadata": {},
   "outputs": [],
   "source": []
  }
 ],
 "metadata": {
  "kernelspec": {
   "display_name": "Python 3",
   "language": "python",
   "name": "python3"
  },
  "language_info": {
   "codemirror_mode": {
    "name": "ipython",
    "version": 3
   },
   "file_extension": ".py",
   "mimetype": "text/x-python",
   "name": "python",
   "nbconvert_exporter": "python",
   "pygments_lexer": "ipython3",
   "version": "3.12.4"
  }
 },
 "nbformat": 4,
 "nbformat_minor": 2
}

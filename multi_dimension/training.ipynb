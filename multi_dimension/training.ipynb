{
 "cells": [
  {
   "cell_type": "code",
   "execution_count": 1,
   "metadata": {},
   "outputs": [],
   "source": [
    "import math\n",
    "import torch\n",
    "import gpytorch\n",
    "import nbimporter\n",
    "from matplotlib import pyplot as plt"
   ]
  },
  {
   "cell_type": "code",
   "execution_count": 4,
   "metadata": {},
   "outputs": [],
   "source": [
    "from data import generate_nd_data\n",
    "# from function import FunctionUtils\n",
    "from nd_model import ExactGPModel"
   ]
  },
  {
   "cell_type": "code",
   "execution_count": null,
   "metadata": {},
   "outputs": [],
   "source": [
    "class GPTrainer:\n",
    "  def __init__(self, likelihood, optimizer):\n",
    "        self.likelihood = likelihood\n",
    "        self.optimizer = optimizer\n",
    "    \n",
    "  #  lr = 0.01, optimizer = torch.optim.Adam()\n",
    "  def train(self, X_train, y_train, X_test, y_test, dim: int, train_iter: int = 200, lr=0.01):\n",
    "        \"\"\"\n",
    "        Trains the GP model and evaluates on the test set.\n",
    "        \n",
    "        The evaluation metrics include:\n",
    "          - MSE: Mean Squared Error.\n",
    "          - NMSE: Normalized MSE (MSE divided by the variance of y_test).\n",
    "          - MNLP: Mean Negative Log Predictive likelihood.\n",
    "          \n",
    "        Returns:\n",
    "          model, metrics  where metrics is a dict with keys 'MSE', 'NMSE', and 'MNLP'.\n",
    "        \"\"\"\n",
    "        # Training setup\n",
    "        model = ExactGPModel(X_train, y_train, self.likelihood(), dim)\n",
    "        optimizer_handler = self.optimizer(model, lr)\n",
    "        \n",
    "        # Training loop\n",
    "        model.train()\n",
    "        model.likelihood.train()\n",
    "        mll = gpytorch.mlls.ExactMarginalLogLikelihood(model.likelihood, model)\n",
    "        \n",
    "        for _ in range(train_iter):\n",
    "            optimizer_handler.step(lambda: None)\n",
    "            \n",
    "        # Evaluation\n",
    "        model.eval()\n",
    "        model.likelihood.eval()\n",
    "        with torch.no_grad(), gpytorch.settings.fast_pred_var():\n",
    "            pred = model.likelihood(model(X_test))\n",
    "            mse = torch.mean((pred.mean - y_test) ** 2)\n",
    "            nmse = mse / torch.var(y_test)\n",
    "            # MNLP: Mean negative log predictive likelihood.\n",
    "            mnlp = - pred.log_prob(y_test).mean()\n",
    "\n",
    "        metrics = {\n",
    "            'MSE': mse.item(),\n",
    "            'NMSE': nmse.item(),\n",
    "            'MNLP': mnlp.item()\n",
    "        }\n",
    "        return model, metrics"
   ]
  },
  {
   "cell_type": "code",
   "execution_count": 6,
   "metadata": {},
   "outputs": [
    {
     "name": "stderr",
     "output_type": "stream",
     "text": [
      "[NbConvertApp] Converting notebook training.ipynb to script\n",
      "[NbConvertApp] Writing 2082 bytes to training.py\n"
     ]
    }
   ],
   "source": [
    "!jupyter nbconvert --to script training.ipynb"
   ]
  }
 ],
 "metadata": {
  "kernelspec": {
   "display_name": "Python 3",
   "language": "python",
   "name": "python3"
  },
  "language_info": {
   "codemirror_mode": {
    "name": "ipython",
    "version": 3
   },
   "file_extension": ".py",
   "mimetype": "text/x-python",
   "name": "python",
   "nbconvert_exporter": "python",
   "pygments_lexer": "ipython3",
   "version": "3.12.4"
  }
 },
 "nbformat": 4,
 "nbformat_minor": 2
}

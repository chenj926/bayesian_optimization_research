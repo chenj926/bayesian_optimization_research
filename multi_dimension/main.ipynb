{
 "cells": [
  {
   "cell_type": "code",
   "execution_count": 3,
   "metadata": {},
   "outputs": [],
   "source": [
    "# main.py\n",
    "import torch\n",
    "from data import generate_nd_data\n",
    "from normalize_data import normalize_data\n",
    "from training import train_gp\n",
    "from plotting import visualize_1d, visualize_2d"
   ]
  },
  {
   "cell_type": "code",
   "execution_count": null,
   "metadata": {},
   "outputs": [],
   "source": [
    "class MainRunner:\n",
    "#     def main():\n",
    "#         # Train models from 1D to 5D\n",
    "#         dims = [1, 2, 3, 4, 5]\n",
    "#         results = {}\n",
    "        \n",
    "#         for d in dims:\n",
    "#             print(f\"\\n--- Training {d}D model ---\")\n",
    "#             # Generate the data (all as torch.Tensors)\n",
    "#             X_train, X_test, y_train, y_test = generate_nd_data(dim=d, n_samples=10)\n",
    "#             # Normalize the data (z-score normalization)\n",
    "#             X_train_norm, X_test_norm, y_train_norm, y_test_norm, norm_params = normalize_data(\n",
    "#                 X_train, X_test, y_train, y_test\n",
    "#             )\n",
    "            \n",
    "#             # Train the GP model and evaluate using MSE, NMSE, MNLP\n",
    "#             model, metrics = train_gp(\n",
    "#                 X_train_norm, y_train_norm, X_test_norm, y_test_norm, \n",
    "#                 dim=d, train_iter=300, lr=0.01\n",
    "#             )\n",
    "#             results[d] = metrics\n",
    "            \n",
    "#             print(f\"{d}D Metrics:\")\n",
    "#             print(f\"  MSE  = {metrics['MSE']:.4f}\")\n",
    "#             print(f\"  NMSE = {metrics['NMSE']:.4f}\")\n",
    "#             print(f\"  MNLP = {metrics['MNLP']:.4f}\")\n",
    "            \n",
    "#             # Visualize only for 1D and 2D cases\n",
    "#             if d == 1:\n",
    "#                 visualize_1d(model, X_train_norm, y_train_norm)\n",
    "#             elif d == 2:\n",
    "#                 visualize_2d(model, X_train_norm, y_train_norm)\n",
    "        \n",
    "#         print(\"\\n=== Summary Metrics for 1D to 5D ===\")\n",
    "#         for d, m in results.items():\n",
    "#             print(f\"{d}D -> MSE: {m['MSE']:.4f}, NMSE: {m['NMSE']:.4f}, MNLP: {m['MNLP']:.4f}\")\n",
    "\n",
    "    def __init__(self, data_generator, normalizer, trainer, visualizer):\n",
    "        self.data_generator = data_generator\n",
    "        self.normalizer = normalizer\n",
    "        self.trainer = trainer\n",
    "        self.visualizer = visualizer\n",
    "\n",
    "    def run(self):\n",
    "        dims = [1, 2, 3, 4, 5]\n",
    "        results = {}\n",
    "        for d in dims:\n",
    "            print(f\"\\n--- Training {d}D model ---\")\n",
    "            X_train, X_test, y_train, y_test = self.data_generator(dim=d, n_samples=10)\n",
    "            # Normalize the data (z-score normalization)\n",
    "            X_train_norm, X_test_norm, y_train_norm, y_test_norm, norm_params = self.normalize(\n",
    "                X_train, X_test, y_train, y_test\n",
    "            )\n",
    "            # Train the GP model and evaluate using MSE, NMSE, MNLP\n",
    "            model, metrics = self.trainer.train(\n",
    "                X_train_norm, y_train_norm, X_test_norm, y_test_norm, d\n",
    "            )\n",
    "            \n",
    "            print(f\"{d}D Metrics:\")\n",
    "            print(f\"  MSE  = {metrics['MSE']:.4f}\")\n",
    "            print(f\"  NMSE = {metrics['NMSE']:.4f}\")\n",
    "            print(f\"  MNLP = {metrics['MNLP']:.4f}\")\n",
    "            \n",
    "            # Visualize only for 1D and 2D cases\n",
    "\n",
    "            if d == 1:\n",
    "                self.visualizer.visualize_1d(model, X_train_norm, y_train_norm)\n",
    "            elif d == 2:\n",
    "                self.visualizer.visualize_2d(model, X_train_norm, y_train_norm)\n",
    "            results[d] = metrics\n",
    "            \n",
    "        return results\n",
    "\n",
    "\n",
    "\n",
    "# if __name__ == \"__main__\":\n",
    "#     MainRunner.main()\n"
   ]
  },
  {
   "cell_type": "code",
   "execution_count": null,
   "metadata": {},
   "outputs": [
    {
     "name": "stderr",
     "output_type": "stream",
     "text": [
      "[NbConvertApp] Converting notebook main.ipynb to script\n",
      "[NbConvertApp] Writing 3534 bytes to main.py\n"
     ]
    }
   ],
   "source": [
    "# !jupyter nbconvert --to script main.ipynb"
   ]
  }
 ],
 "metadata": {
  "kernelspec": {
   "display_name": "Python 3",
   "language": "python",
   "name": "python3"
  },
  "language_info": {
   "codemirror_mode": {
    "name": "ipython",
    "version": 3
   },
   "file_extension": ".py",
   "mimetype": "text/x-python",
   "name": "python",
   "nbconvert_exporter": "python",
   "pygments_lexer": "ipython3",
   "version": "3.12.4"
  }
 },
 "nbformat": 4,
 "nbformat_minor": 2
}

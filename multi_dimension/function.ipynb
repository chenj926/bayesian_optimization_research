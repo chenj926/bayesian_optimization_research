{
 "cells": [
  {
   "cell_type": "code",
   "execution_count": 3,
   "metadata": {},
   "outputs": [],
   "source": [
    "import math\n",
    "import torch\n",
    "import gpytorch\n",
    "from matplotlib import pyplot as plt"
   ]
  },
  {
   "cell_type": "code",
   "execution_count": 4,
   "metadata": {},
   "outputs": [],
   "source": [
    "class FunctionUtils:\n",
    "    # function\n",
    "    def rosenbrock(x: torch.Tensor) -> torch.Tensor:\n",
    "        \"\"\"N-dimensional Rosenbrock function compatible with PyTorch tensors.\"\"\"\n",
    "        if x.ndim == 1:\n",
    "            x = x.unsqueeze(0)\n",
    "        if x.size(1) == 1:  # 1D case (standard quadratic)\n",
    "            return (x.squeeze() - 1)**2\n",
    "        return torch.sum(100*(x[:, 1:] - x[:, :-1]**2)**2 + (x[:, :-1] - 1)**2, dim=1)"
   ]
  },
  {
   "cell_type": "code",
   "execution_count": null,
   "metadata": {},
   "outputs": [
    {
     "name": "stderr",
     "output_type": "stream",
     "text": [
      "[NbConvertApp] Converting notebook function.ipynb to script\n",
      "[NbConvertApp] Writing 635 bytes to function.py\n"
     ]
    }
   ],
   "source": [
    "# !jupyter nbconvert --to script function.ipynb"
   ]
  }
 ],
 "metadata": {
  "kernelspec": {
   "display_name": "Python 3",
   "language": "python",
   "name": "python3"
  },
  "language_info": {
   "codemirror_mode": {
    "name": "ipython",
    "version": 3
   },
   "file_extension": ".py",
   "mimetype": "text/x-python",
   "name": "python",
   "nbconvert_exporter": "python",
   "pygments_lexer": "ipython3",
   "version": "3.12.4"
  }
 },
 "nbformat": 4,
 "nbformat_minor": 2
}

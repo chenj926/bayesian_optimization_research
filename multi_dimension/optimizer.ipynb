{
 "cells": [
  {
   "cell_type": "code",
   "execution_count": 2,
   "metadata": {},
   "outputs": [],
   "source": [
    "import torch"
   ]
  },
  {
   "cell_type": "code",
   "execution_count": 1,
   "metadata": {},
   "outputs": [],
   "source": [
    "# Update the OptimizerHandler class to use LBFGS instead of Adam\n",
    "class OptimizerHandler:\n",
    "    def __init__(self, model, lr=0.01):\n",
    "        # Replace Adam with LBFGS optimizer\n",
    "        self.optimizer = torch.optim.LBFGS(model.parameters(), lr=lr, line_search_fn=\"strong_wolfe\")\n",
    "        self.model = model\n",
    "        self.mll = None  # Will be set in the train method\n",
    "\n",
    "    def step(self):\n",
    "        \"\"\"Step function that doesn't require closure\"\"\"\n",
    "        # Define closure function internally to avoid exposing it to the user\n",
    "        def closure():\n",
    "            self.optimizer.zero_grad()\n",
    "            output = self.model(self.model.train_inputs[0])\n",
    "            loss = -self.mll(output, self.model.train_targets)\n",
    "            loss.backward()\n",
    "            return loss\n",
    "            \n",
    "        # Take the optimization step with closure\n",
    "        return self.optimizer.step(closure)"
   ]
  },
  {
   "cell_type": "code",
   "execution_count": null,
   "metadata": {},
   "outputs": [
    {
     "name": "stderr",
     "output_type": "stream",
     "text": [
      "[NbConvertApp] Converting notebook optimizer.ipynb to script\n",
      "[NbConvertApp] Writing 1029 bytes to optimizer.py\n"
     ]
    }
   ],
   "source": [
    "# !jupyter nbconvert --to script optimizer.ipynb"
   ]
  }
 ],
 "metadata": {
  "kernelspec": {
   "display_name": "Python 3",
   "language": "python",
   "name": "python3"
  },
  "language_info": {
   "codemirror_mode": {
    "name": "ipython",
    "version": 3
   },
   "file_extension": ".py",
   "mimetype": "text/x-python",
   "name": "python",
   "nbconvert_exporter": "python",
   "pygments_lexer": "ipython3",
   "version": "3.12.4"
  }
 },
 "nbformat": 4,
 "nbformat_minor": 2
}

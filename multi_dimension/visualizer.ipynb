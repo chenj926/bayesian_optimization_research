{
 "cells": [
  {
   "cell_type": "code",
   "execution_count": 1,
   "metadata": {},
   "outputs": [],
   "source": [
    "import torch, gpytorch\n",
    "import matplotlib as plt"
   ]
  },
  {
   "cell_type": "code",
   "execution_count": 3,
   "metadata": {},
   "outputs": [],
   "source": [
    "# Example of creating a Visualizer class to match your object-oriented design\n",
    "class Visualizer:\n",
    "    def visualize_1d(self, model, X_train, y_train):\n",
    "        # Get predictions on a finer grid\n",
    "        test_x = torch.linspace(-3, 3, 100).unsqueeze(1)\n",
    "        with torch.no_grad(), gpytorch.settings.fast_pred_var():\n",
    "            predictions = model.likelihood(model(test_x))\n",
    "            mean = predictions.mean\n",
    "            lower, upper = predictions.confidence_region()\n",
    "        \n",
    "        # Plot training data\n",
    "        plt.figure(figsize=(10, 6))\n",
    "        plt.scatter(X_train.numpy(), y_train.numpy(), label='Training Data')\n",
    "        \n",
    "        # Plot prediction\n",
    "        plt.plot(test_x.numpy(), mean.numpy(), 'r-', label='Mean')\n",
    "        plt.fill_between(test_x.squeeze().numpy(), lower.numpy(), upper.numpy(), alpha=0.2, color='r', label='Confidence')\n",
    "        \n",
    "        plt.legend()\n",
    "        plt.title('1D GP Regression')\n",
    "        plt.show()\n",
    "    \n",
    "    def visualize_2d(self, model, X_train, y_train):\n",
    "        # Create a 2D grid of points\n",
    "        grid_size = 50\n",
    "        grid_x = torch.linspace(-3, 3, grid_size)\n",
    "        grid_y = torch.linspace(-3, 3, grid_size)\n",
    "        grid_X, grid_Y = torch.meshgrid(grid_x, grid_y)\n",
    "        grid_points = torch.stack([grid_X.flatten(), grid_Y.flatten()], dim=1)\n",
    "        \n",
    "        # Make predictions\n",
    "        with torch.no_grad(), gpytorch.settings.fast_pred_var():\n",
    "            predictions = model.likelihood(model(grid_points))\n",
    "            mean = predictions.mean.reshape(grid_size, grid_size)\n",
    "        \n",
    "        # Plot contour of predictions\n",
    "        plt.figure(figsize=(10, 8))\n",
    "        plt.contourf(grid_X.numpy(), grid_Y.numpy(), mean.numpy(), 50, cmap='viridis')\n",
    "        plt.colorbar(label='Predicted Value')\n",
    "        \n",
    "        # Plot training points\n",
    "        plt.scatter(X_train[:, 0].numpy(), X_train[:, 1].numpy(), c=y_train.numpy(), \n",
    "                   cmap='coolwarm', s=50, edgecolors='k', label='Training Data')\n",
    "        \n",
    "        plt.title('2D GP Regression')\n",
    "        plt.xlabel('X1')\n",
    "        plt.ylabel('X2')\n",
    "        plt.show()"
   ]
  },
  {
   "cell_type": "code",
   "execution_count": null,
   "metadata": {},
   "outputs": [
    {
     "name": "stderr",
     "output_type": "stream",
     "text": [
      "[NbConvertApp] Converting notebook visualizer.ipynb to script\n",
      "[NbConvertApp] Writing 2247 bytes to visualizer.py\n"
     ]
    }
   ],
   "source": [
    "# !jupyter nbconvert --to script visualizer.ipynb"
   ]
  }
 ],
 "metadata": {
  "kernelspec": {
   "display_name": "Python 3",
   "language": "python",
   "name": "python3"
  },
  "language_info": {
   "codemirror_mode": {
    "name": "ipython",
    "version": 3
   },
   "file_extension": ".py",
   "mimetype": "text/x-python",
   "name": "python",
   "nbconvert_exporter": "python",
   "pygments_lexer": "ipython3",
   "version": "3.12.4"
  }
 },
 "nbformat": 4,
 "nbformat_minor": 2
}

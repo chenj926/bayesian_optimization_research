{
 "cells": [
  {
   "cell_type": "code",
   "execution_count": 2,
   "metadata": {},
   "outputs": [
    {
     "name": "stdout",
     "output_type": "stream",
     "text": [
      "The autoreload extension is already loaded. To reload it, use:\n",
      "  %reload_ext autoreload\n"
     ]
    }
   ],
   "source": [
    "import math\n",
    "import torch\n",
    "import gpytorch\n",
    "from matplotlib import pyplot as plt\n",
    "\n",
    "%matplotlib inline\n",
    "%load_ext autoreload\n",
    "%autoreload 2"
   ]
  },
  {
   "cell_type": "code",
   "execution_count": 3,
   "metadata": {},
   "outputs": [],
   "source": [
    "# Training data is 100 points in [0,1] inclusive regularly spaced\n",
    "train_x = torch.linspace(0, 1, 100)\n",
    "# True function is sin(2*pi*x) with Gaussian noise\n",
    "train_y = torch.sin(train_x * (2 * math.pi)) + torch.randn(train_x.size()) * math.sqrt(0.04)"
   ]
  },
  {
   "cell_type": "code",
   "execution_count": 4,
   "metadata": {},
   "outputs": [],
   "source": [
    "# most critical feature of user-defined Gaussian process\n",
    "# gpytorch do NOT provided full GP model for the user.\n",
    "# instead provide tools necessary to quickly construct one (GP)\n"
   ]
  },
  {
   "cell_type": "markdown",
   "metadata": {},
   "source": [
    "following GPytorch objects:\n",
    "1. A GP Model `(gpytorch.models.ExactGP)` - This handles most of the inference.\n",
    "\n",
    "2. A Likelihood `(gpytorch.likelihoods.GaussianLikelihood)` - This is the most common likelihood used for GP regression.\n",
    "\n",
    "3. A Mean - This defines the prior mean of the GP.(If you don’t know which mean to use, a `gpytorch.means.ConstantMean()` is a good place to start.)\n",
    "\n",
    "4. A Kernel - This defines the prior covariance of the GP.(If you don’t know which kernel to use, a `gpytorch.kernels.ScaleKernel(gpytorch.kernels.RBFKernel())` is a good place to start).\n",
    "\n",
    "5. A MultivariateNormal Distribution `(gpytorch.distributions.MultivariateNormal)` - This is the object used to represent multivariate normal distributions."
   ]
  },
  {
   "cell_type": "code",
   "execution_count": 5,
   "metadata": {},
   "outputs": [],
   "source": [
    "# two kernels via addition\n",
    "# add the kernel modules directly:\n",
    "## self.covar_module = ScaleKernel(RBFKernel() + LinearKernel())\n",
    "\n",
    "# add the outputs of the kernel in the forward method:\n",
    "# covar#_x = self.rbf_kernel_module(x) + self.white_noise_module(x)"
   ]
  },
  {
   "cell_type": "markdown",
   "metadata": {},
   "source": [
    "The simplest likelihood for regression is the gpytorch.likelihoods.GaussianLikelihood. This assumes a homoskedastic noise model (i.e. all inputs have the same observational noise)."
   ]
  },
  {
   "cell_type": "markdown",
   "metadata": {},
   "source": [
    "Recall: \\\n",
    "`train_x = torch.linspace(0, 1, 100)` \\\n",
    "`train_y = torch.sin(train_x * (2 * math.pi)) + torch.randn(train_x.size()) * math.sqrt(0.04)`"
   ]
  },
  {
   "cell_type": "code",
   "execution_count": 6,
   "metadata": {},
   "outputs": [],
   "source": [
    "# We will use the simplest form of GP model, exact inference\n",
    "class ExactGPModel(gpytorch.models.ExactGP):\n",
    "    def __init__(self, train_x, train_y, likelihood):\n",
    "        super(ExactGPModel, self).__init__(train_x, train_y, likelihood)\n",
    "        self.mean_module = gpytorch.means.ConstantMean()\n",
    "        self.covar_module = gpytorch.kernels.ScaleKernel(gpytorch.kernels.RBFKernel())\n",
    "\n",
    "    def forward(self, x):\n",
    "        mean_x = self.mean_module(x)\n",
    "        covar_x = self.covar_module(x)\n",
    "        return gpytorch.distributions.MultivariateNormal(mean_x, covar_x)\n",
    "\n",
    "# initialize likelihood and model\n",
    "likelihood = gpytorch.likelihoods.GaussianLikelihood()\n",
    "model = ExactGPModel(train_x, train_y, likelihood)"
   ]
  },
  {
   "cell_type": "markdown",
   "metadata": {},
   "source": [
    "##### Traning"
   ]
  },
  {
   "cell_type": "markdown",
   "metadata": {},
   "source": [
    "In GPyTorch, we make use of the standard PyTorch optimizers as from `torch.optim`, and all trainable parameters of the model should be of type `torch.nn.Parameter`. \\\n",
    "Because GP models directly extend `torch.nn.Module`, calls to methods like `model.parameters()` or `model.named_parameters()` function as you might expect coming from PyTorch."
   ]
  },
  {
   "cell_type": "markdown",
   "metadata": {},
   "source": [
    "In most cases, the boilerplate code below will work well. It has the same basic components as the standard PyTorch training loop:\n",
    "\n",
    "1. Zero all parameter gradients\n",
    "\n",
    "2. Call the model and compute the loss\n",
    "\n",
    "3. Call backward on the loss to fill in gradients\n",
    "\n",
    "4. Take a step on the optimizer"
   ]
  },
  {
   "cell_type": "code",
   "execution_count": 7,
   "metadata": {},
   "outputs": [
    {
     "name": "stdout",
     "output_type": "stream",
     "text": [
      "Iter 1/50 - Loss: 0.945   lengthscale: 0.693   noise: 0.693\n",
      "Iter 2/50 - Loss: 0.918   lengthscale: 0.649   noise: 0.649\n",
      "Iter 3/50 - Loss: 0.888   lengthscale: 0.607   noise: 0.607\n",
      "Iter 4/50 - Loss: 0.855   lengthscale: 0.567   noise: 0.567\n",
      "Iter 5/50 - Loss: 0.818   lengthscale: 0.530   noise: 0.529\n",
      "Iter 6/50 - Loss: 0.776   lengthscale: 0.494   noise: 0.493\n",
      "Iter 7/50 - Loss: 0.730   lengthscale: 0.460   noise: 0.459\n",
      "Iter 8/50 - Loss: 0.682   lengthscale: 0.428   noise: 0.426\n",
      "Iter 9/50 - Loss: 0.634   lengthscale: 0.397   noise: 0.395\n",
      "Iter 10/50 - Loss: 0.588   lengthscale: 0.368   noise: 0.366\n",
      "Iter 11/50 - Loss: 0.547   lengthscale: 0.341   noise: 0.338\n",
      "Iter 12/50 - Loss: 0.509   lengthscale: 0.317   noise: 0.313\n",
      "Iter 13/50 - Loss: 0.474   lengthscale: 0.296   noise: 0.288\n",
      "Iter 14/50 - Loss: 0.441   lengthscale: 0.277   noise: 0.266\n",
      "Iter 15/50 - Loss: 0.408   lengthscale: 0.262   noise: 0.245\n",
      "Iter 16/50 - Loss: 0.377   lengthscale: 0.249   noise: 0.225\n",
      "Iter 17/50 - Loss: 0.345   lengthscale: 0.238   noise: 0.207\n",
      "Iter 18/50 - Loss: 0.313   lengthscale: 0.229   noise: 0.190\n",
      "Iter 19/50 - Loss: 0.282   lengthscale: 0.221   noise: 0.174\n",
      "Iter 20/50 - Loss: 0.252   lengthscale: 0.215   noise: 0.160\n",
      "Iter 21/50 - Loss: 0.221   lengthscale: 0.211   noise: 0.146\n",
      "Iter 22/50 - Loss: 0.191   lengthscale: 0.208   noise: 0.134\n",
      "Iter 23/50 - Loss: 0.162   lengthscale: 0.206   noise: 0.123\n",
      "Iter 24/50 - Loss: 0.134   lengthscale: 0.205   noise: 0.113\n",
      "Iter 25/50 - Loss: 0.106   lengthscale: 0.205   noise: 0.103\n",
      "Iter 26/50 - Loss: 0.079   lengthscale: 0.206   noise: 0.095\n",
      "Iter 27/50 - Loss: 0.054   lengthscale: 0.207   noise: 0.087\n",
      "Iter 28/50 - Loss: 0.030   lengthscale: 0.210   noise: 0.080\n",
      "Iter 29/50 - Loss: 0.008   lengthscale: 0.213   noise: 0.073\n",
      "Iter 30/50 - Loss: -0.012   lengthscale: 0.216   noise: 0.068\n",
      "Iter 31/50 - Loss: -0.031   lengthscale: 0.220   noise: 0.062\n",
      "Iter 32/50 - Loss: -0.046   lengthscale: 0.224   noise: 0.058\n",
      "Iter 33/50 - Loss: -0.060   lengthscale: 0.227   noise: 0.053\n",
      "Iter 34/50 - Loss: -0.071   lengthscale: 0.230   noise: 0.049\n",
      "Iter 35/50 - Loss: -0.080   lengthscale: 0.233   noise: 0.046\n",
      "Iter 36/50 - Loss: -0.086   lengthscale: 0.235   noise: 0.043\n",
      "Iter 37/50 - Loss: -0.090   lengthscale: 0.236   noise: 0.040\n",
      "Iter 38/50 - Loss: -0.093   lengthscale: 0.236   noise: 0.038\n",
      "Iter 39/50 - Loss: -0.094   lengthscale: 0.235   noise: 0.036\n",
      "Iter 40/50 - Loss: -0.094   lengthscale: 0.233   noise: 0.034\n",
      "Iter 41/50 - Loss: -0.093   lengthscale: 0.230   noise: 0.032\n",
      "Iter 42/50 - Loss: -0.092   lengthscale: 0.226   noise: 0.031\n",
      "Iter 43/50 - Loss: -0.091   lengthscale: 0.222   noise: 0.030\n",
      "Iter 44/50 - Loss: -0.089   lengthscale: 0.217   noise: 0.029\n",
      "Iter 45/50 - Loss: -0.087   lengthscale: 0.212   noise: 0.028\n",
      "Iter 46/50 - Loss: -0.085   lengthscale: 0.207   noise: 0.028\n",
      "Iter 47/50 - Loss: -0.084   lengthscale: 0.203   noise: 0.028\n",
      "Iter 48/50 - Loss: -0.083   lengthscale: 0.200   noise: 0.027\n",
      "Iter 49/50 - Loss: -0.083   lengthscale: 0.197   noise: 0.027\n",
      "Iter 50/50 - Loss: -0.083   lengthscale: 0.196   noise: 0.028\n"
     ]
    }
   ],
   "source": [
    "# # this is for running the notebook in our testing framework\n",
    "# import os\n",
    "# smoke_test = ('CI' in os.environ)\n",
    "# training_iter = 2 if smoke_test else 50\n",
    "training_iter = 50\n",
    "\n",
    "# Find optimal model hyperparameters\n",
    "model.train()\n",
    "likelihood.train()\n",
    "\n",
    "# Use the adam optimizer\n",
    "optimizer = torch.optim.Adam(model.parameters(), lr=0.09)  # Includes GaussianLikelihood parameters\n",
    "\n",
    "# \"Loss\" for GPs - the marginal log likelihood\n",
    "mll = gpytorch.mlls.ExactMarginalLogLikelihood(likelihood, model)\n",
    "\n",
    "for i in range(training_iter):\n",
    "    # Zero gradients from previous iteration\n",
    "    optimizer.zero_grad()\n",
    "    # Output from model\n",
    "    output = model(train_x)\n",
    "    # Calc loss and backprop gradients\n",
    "    loss = -mll(output, train_y)\n",
    "    loss.backward()\n",
    "    print('Iter %d/%d - Loss: %.3f   lengthscale: %.3f   noise: %.3f' % (\n",
    "        i + 1, training_iter, loss.item(),\n",
    "        model.covar_module.base_kernel.lengthscale.item(),\n",
    "        model.likelihood.noise.item()\n",
    "    ))\n",
    "    optimizer.step()"
   ]
  },
  {
   "cell_type": "markdown",
   "metadata": {},
   "source": [
    "#### Make predictions with the model"
   ]
  },
  {
   "cell_type": "markdown",
   "metadata": {},
   "source": [
    "To do this, we simply put the model and likelihood in eval mode, and call both modules on the test data. \\\n",
    "Just as a user defined GP model returns a MultivariateNormal containing the prior mean and covariance from forward, \\\n",
    "a trained GP model in eval mode returns a MultivariateNormal containing the `posterior` mean and covariance."
   ]
  },
  {
   "cell_type": "markdown",
   "metadata": {},
   "source": [
    "If we denote a test point (test_x) as x* with the true output being y*, then model(test_x) returns the model posterior distribution `p(f* | x*, X, y)`, \\\n",
    "for training data X, y. This posterior is the distribution over the function we are trying to model, and thus quantifies our model uncertainty.\n",
    "\n",
    "In contrast, likelihood(model(test_x)) gives us the posterior predictive distribution `p(y* | x*, X, y)` \\\n",
    "which is the probability distribution over the predicted output value. Recall in our problem setup"
   ]
  },
  {
   "cell_type": "markdown",
   "metadata": {},
   "source": [
    "posterior distribution p(f* ) -> uncertainty over the function f(x)\n",
    "posterior predictive distribution p(y* ) -> observed output values y* \\\n",
    "- combines the uncertainty in the underlying func + observed noise"
   ]
  },
  {
   "attachments": {
    "image.png": {
     "image/png": "[encoded data removed]"
    }
   },
   "cell_type": "markdown",
   "metadata": {},
   "source": [
    "![image.png](attachment:image.png)"
   ]
  },
  {
   "cell_type": "code",
   "execution_count": 8,
   "metadata": {},
   "outputs": [],
   "source": [
    "# Get into evaluation (predictive posterior) mode\n",
    "model.eval()\n",
    "likelihood.eval()\n",
    "\n",
    "# Test points are regularly spaced along [0,1]\n",
    "# Make predictions by feeding model through likelihood\n",
    "with torch.no_grad(), gpytorch.settings.fast_pred_var():\n",
    "    test_x = torch.linspace(0, 1, 51)\n",
    "    observed_pred = likelihood(model(test_x))"
   ]
  },
  {
   "cell_type": "code",
   "execution_count": 10,
   "metadata": {},
   "outputs": [
    {
     "name": "stdout",
     "output_type": "stream",
     "text": [
      "tensor([[-0.0269,  0.0648,  0.1713,  ..., -0.1753, -0.0245,  0.1196],\n",
      "        [-0.0386,  0.0456,  0.1525,  ..., -0.0262,  0.1418,  0.3116],\n",
      "        [-0.1019,  0.0503,  0.1978,  ..., -0.0985,  0.0141,  0.1215],\n",
      "        ...,\n",
      "        [ 0.1139,  0.1624,  0.2344,  ..., -0.1368, -0.0227,  0.0698],\n",
      "        [ 0.1616,  0.2174,  0.2961,  ..., -0.1759, -0.0309,  0.1160],\n",
      "        [ 0.1933,  0.2159,  0.2552,  ..., -0.0687,  0.0957,  0.2599]])\n"
     ]
    },
    {
     "name": "stderr",
     "output_type": "stream",
     "text": [
      "d:\\python\\Lib\\site-packages\\linear_operator\\utils\\cholesky.py:40: NumericalWarning: A not p.d., added jitter of 1.0e-06 to the diagonal\n",
      "  warnings.warn(\n",
      "d:\\python\\Lib\\site-packages\\linear_operator\\utils\\cholesky.py:40: NumericalWarning: A not p.d., added jitter of 1.0e-05 to the diagonal\n",
      "  warnings.warn(\n"
     ]
    }
   ],
   "source": [
    "f_preds = model(test_x)\n",
    "y_preds = likelihood(model(test_x))\n",
    "\n",
    "f_mean = f_preds.mean\n",
    "f_var = f_preds.variance\n",
    "f_covar = f_preds.covariance_matrix\n",
    "f_samples = f_preds.sample(sample_shape=torch.Size({1000}))\n",
    "print(f_samples)"
   ]
  },
  {
   "cell_type": "code",
   "execution_count": 11,
   "metadata": {},
   "outputs": [
    {
     "name": "stdout",
     "output_type": "stream",
     "text": [
      "2.5.1+cu121\n",
      "1.13\n"
     ]
    }
   ],
   "source": [
    "# print(torch.__version__)\n",
    "# print(gpytorch.__version__)"
   ]
  },
  {
   "cell_type": "code",
   "execution_count": 12,
   "metadata": {},
   "outputs": [
    {
     "name": "stdout",
     "output_type": "stream",
     "text": [
      "True\n",
      "NVIDIA GeForce RTX 4060 Laptop GPU\n"
     ]
    }
   ],
   "source": [
    "# print(torch.cuda.is_available())  # Should return True\n",
    "# print(torch.cuda.get_device_name())  # Should display your GPU name"
   ]
  },
  {
   "cell_type": "markdown",
   "metadata": {},
   "source": [
    "#### Plot the model fit\n",
    "We plot the mean and confidence region of the Gaussian process model. \\\n",
    "The confidence_region method is a helper method that returns 2 standard deviations above and below the mean."
   ]
  },
  {
   "cell_type": "code",
   "execution_count": 13,
   "metadata": {},
   "outputs": [
    {
     "data": {
      "image/png": "[encoded data removed]",
      "text/plain": [
       "<Figure size 400x300 with 1 Axes>"
      ]
     },
     "metadata": {},
     "output_type": "display_data"
    }
   ],
   "source": [
    "with torch.no_grad():\n",
    "    # Initialize plot\n",
    "    f, ax = plt.subplots(1, 1, figsize=(4, 3))\n",
    "\n",
    "    # Get upper and lower confidence bounds\n",
    "    lower, upper = observed_pred.confidence_region()\n",
    "    # Plot training data as black stars\n",
    "    ax.plot(train_x.numpy(), train_y.numpy(), 'k*')\n",
    "    # Plot predictive means as blue line\n",
    "    ax.plot(test_x.numpy(), observed_pred.mean.numpy(), 'b')\n",
    "    # Shade between the lower and upper confidence bounds\n",
    "    ax.fill_between(test_x.numpy(), lower.numpy(), upper.numpy(), alpha=0.5)\n",
    "    ax.set_ylim([-3, 3])\n",
    "    ax.legend(['Observed Data', 'Mean', 'Confidence'])"
   ]
  }
 ],
 "metadata": {
  "kernelspec": {
   "display_name": "Python 3",
   "language": "python",
   "name": "python3"
  },
  "language_info": {
   "codemirror_mode": {
    "name": "ipython",
    "version": 3
   },
   "file_extension": ".py",
   "mimetype": "text/x-python",
   "name": "python",
   "nbconvert_exporter": "python",
   "pygments_lexer": "ipython3",
   "version": "3.12.4"
  }
 },
 "nbformat": 4,
 "nbformat_minor": 2
}

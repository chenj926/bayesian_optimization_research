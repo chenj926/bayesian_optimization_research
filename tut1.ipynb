{
 "cells": [
  {
   "cell_type": "code",
   "execution_count": 1,
   "metadata": {},
   "outputs": [],
   "source": [
    "import math\n",
    "import torch\n",
    "import gpytorch\n",
    "from matplotlib import pyplot as plt\n",
    "\n",
    "%matplotlib inline\n",
    "%load_ext autoreload\n",
    "%autoreload 2"
   ]
  },
  {
   "cell_type": "code",
   "execution_count": 22,
   "metadata": {},
   "outputs": [],
   "source": [
    "# Training data is 100 points in [0,1] inclusive regularly spaced\n",
    "train_x = torch.linspace(0, 1, 100)\n",
    "# True function is sin(2*pi*x) with Gaussian noise\n",
    "train_y = torch.sin(train_x * (2 * math.pi)) + torch.randn(train_x.size()) * math.sqrt(0.04)"
   ]
  },
  {
   "cell_type": "code",
   "execution_count": 3,
   "metadata": {},
   "outputs": [],
   "source": [
    "# most critical feature of user-defined Gaussian process\n",
    "# gpytorch do NOT provided full GP model for the user.\n",
    "# instead provide tools necessary to quickly construct one (GP)\n"
   ]
  },
  {
   "cell_type": "markdown",
   "metadata": {},
   "source": [
    "following GPytorch objects:\n",
    "1. A GP Model `(gpytorch.models.ExactGP)` - This handles most of the inference.\n",
    "\n",
    "2. A Likelihood `(gpytorch.likelihoods.GaussianLikelihood)` - This is the most common likelihood used for GP regression.\n",
    "\n",
    "3. A Mean - This defines the prior mean of the GP.(If you don’t know which mean to use, a `gpytorch.means.ConstantMean()` is a good place to start.)\n",
    "\n",
    "4. A Kernel - This defines the prior covariance of the GP.(If you don’t know which kernel to use, a `gpytorch.kernels.ScaleKernel(gpytorch.kernels.RBFKernel())` is a good place to start).\n",
    "\n",
    "5. A MultivariateNormal Distribution `(gpytorch.distributions.MultivariateNormal)` - This is the object used to represent multivariate normal distributions."
   ]
  },
  {
   "cell_type": "code",
   "execution_count": null,
   "metadata": {},
   "outputs": [],
   "source": [
    "# two kernels via addition\n",
    "# add the kernel modules directly:\n",
    "## self.covar_module = ScaleKernel(RBFKernel() + LinearKernel())\n",
    "\n",
    "# add the outputs of the kernel in the forward method:\n",
    "# covar#_x = self.rbf_kernel_module(x) + self.white_noise_module(x)"
   ]
  },
  {
   "cell_type": "markdown",
   "metadata": {},
   "source": [
    "The simplest likelihood for regression is the gpytorch.likelihoods.GaussianLikelihood. This assumes a homoskedastic noise model (i.e. all inputs have the same observational noise)."
   ]
  },
  {
   "cell_type": "markdown",
   "metadata": {},
   "source": [
    "Recall: \\\n",
    "`train_x = torch.linspace(0, 1, 100)` \\\n",
    "`train_y = torch.sin(train_x * (2 * math.pi)) + torch.randn(train_x.size()) * math.sqrt(0.04)`"
   ]
  },
  {
   "cell_type": "code",
   "execution_count": 23,
   "metadata": {},
   "outputs": [],
   "source": [
    "# We will use the simplest form of GP model, exact inference\n",
    "class ExactGPModel(gpytorch.models.ExactGP):\n",
    "    def __init__(self, train_x, train_y, likelihood):\n",
    "        super(ExactGPModel, self).__init__(train_x, train_y, likelihood)\n",
    "        self.mean_module = gpytorch.means.ConstantMean()\n",
    "        self.covar_module = gpytorch.kernels.ScaleKernel(gpytorch.kernels.RBFKernel())\n",
    "\n",
    "    def forward(self, x):\n",
    "        mean_x = self.mean_module(x)\n",
    "        covar_x = self.covar_module(x)\n",
    "        return gpytorch.distributions.MultivariateNormal(mean_x, covar_x)\n",
    "\n",
    "# initialize likelihood and model\n",
    "likelihood = gpytorch.likelihoods.GaussianLikelihood()\n",
    "model = ExactGPModel(train_x, train_y, likelihood)"
   ]
  },
  {
   "cell_type": "markdown",
   "metadata": {},
   "source": [
    "##### Traning"
   ]
  },
  {
   "cell_type": "markdown",
   "metadata": {},
   "source": [
    "In GPyTorch, we make use of the standard PyTorch optimizers as from `torch.optim`, and all trainable parameters of the model should be of type `torch.nn.Parameter`. \\\n",
    "Because GP models directly extend `torch.nn.Module`, calls to methods like `model.parameters()` or `model.named_parameters()` function as you might expect coming from PyTorch."
   ]
  },
  {
   "cell_type": "markdown",
   "metadata": {},
   "source": [
    "In most cases, the boilerplate code below will work well. It has the same basic components as the standard PyTorch training loop:\n",
    "\n",
    "1. Zero all parameter gradients\n",
    "\n",
    "2. Call the model and compute the loss\n",
    "\n",
    "3. Call backward on the loss to fill in gradients\n",
    "\n",
    "4. Take a step on the optimizer"
   ]
  },
  {
   "cell_type": "code",
   "execution_count": 24,
   "metadata": {},
   "outputs": [
    {
     "name": "stdout",
     "output_type": "stream",
     "text": [
      "Iter 1/50 - Loss: 0.951   lengthscale: 0.693   noise: 0.693\n",
      "Iter 2/50 - Loss: 0.924   lengthscale: 0.649   noise: 0.649\n",
      "Iter 3/50 - Loss: 0.894   lengthscale: 0.607   noise: 0.607\n",
      "Iter 4/50 - Loss: 0.861   lengthscale: 0.567   noise: 0.567\n",
      "Iter 5/50 - Loss: 0.824   lengthscale: 0.530   noise: 0.529\n",
      "Iter 6/50 - Loss: 0.783   lengthscale: 0.494   noise: 0.493\n",
      "Iter 7/50 - Loss: 0.738   lengthscale: 0.460   noise: 0.459\n",
      "Iter 8/50 - Loss: 0.689   lengthscale: 0.428   noise: 0.426\n",
      "Iter 9/50 - Loss: 0.641   lengthscale: 0.397   noise: 0.395\n",
      "Iter 10/50 - Loss: 0.595   lengthscale: 0.368   noise: 0.366\n",
      "Iter 11/50 - Loss: 0.553   lengthscale: 0.341   noise: 0.338\n",
      "Iter 12/50 - Loss: 0.515   lengthscale: 0.317   noise: 0.313\n",
      "Iter 13/50 - Loss: 0.480   lengthscale: 0.295   noise: 0.288\n",
      "Iter 14/50 - Loss: 0.447   lengthscale: 0.276   noise: 0.266\n",
      "Iter 15/50 - Loss: 0.416   lengthscale: 0.260   noise: 0.245\n",
      "Iter 16/50 - Loss: 0.385   lengthscale: 0.247   noise: 0.225\n",
      "Iter 17/50 - Loss: 0.355   lengthscale: 0.236   noise: 0.207\n",
      "Iter 18/50 - Loss: 0.326   lengthscale: 0.228   noise: 0.190\n",
      "Iter 19/50 - Loss: 0.297   lengthscale: 0.221   noise: 0.174\n",
      "Iter 20/50 - Loss: 0.268   lengthscale: 0.216   noise: 0.160\n",
      "Iter 21/50 - Loss: 0.240   lengthscale: 0.213   noise: 0.147\n",
      "Iter 22/50 - Loss: 0.212   lengthscale: 0.211   noise: 0.135\n",
      "Iter 23/50 - Loss: 0.185   lengthscale: 0.211   noise: 0.123\n",
      "Iter 24/50 - Loss: 0.158   lengthscale: 0.211   noise: 0.113\n",
      "Iter 25/50 - Loss: 0.133   lengthscale: 0.213   noise: 0.104\n",
      "Iter 26/50 - Loss: 0.109   lengthscale: 0.216   noise: 0.096\n",
      "Iter 27/50 - Loss: 0.086   lengthscale: 0.219   noise: 0.088\n",
      "Iter 28/50 - Loss: 0.066   lengthscale: 0.224   noise: 0.081\n",
      "Iter 29/50 - Loss: 0.046   lengthscale: 0.229   noise: 0.074\n",
      "Iter 30/50 - Loss: 0.029   lengthscale: 0.234   noise: 0.069\n",
      "Iter 31/50 - Loss: 0.015   lengthscale: 0.240   noise: 0.064\n",
      "Iter 32/50 - Loss: 0.002   lengthscale: 0.247   noise: 0.059\n",
      "Iter 33/50 - Loss: -0.008   lengthscale: 0.254   noise: 0.055\n",
      "Iter 34/50 - Loss: -0.015   lengthscale: 0.261   noise: 0.051\n",
      "Iter 35/50 - Loss: -0.020   lengthscale: 0.268   noise: 0.048\n",
      "Iter 36/50 - Loss: -0.023   lengthscale: 0.275   noise: 0.045\n",
      "Iter 37/50 - Loss: -0.024   lengthscale: 0.282   noise: 0.043\n",
      "Iter 38/50 - Loss: -0.023   lengthscale: 0.287   noise: 0.040\n",
      "Iter 39/50 - Loss: -0.020   lengthscale: 0.292   noise: 0.039\n",
      "Iter 40/50 - Loss: -0.017   lengthscale: 0.295   noise: 0.037\n",
      "Iter 41/50 - Loss: -0.014   lengthscale: 0.297   noise: 0.036\n",
      "Iter 42/50 - Loss: -0.011   lengthscale: 0.298   noise: 0.035\n",
      "Iter 43/50 - Loss: -0.009   lengthscale: 0.297   noise: 0.034\n",
      "Iter 44/50 - Loss: -0.007   lengthscale: 0.294   noise: 0.034\n",
      "Iter 45/50 - Loss: -0.006   lengthscale: 0.291   noise: 0.033\n",
      "Iter 46/50 - Loss: -0.006   lengthscale: 0.287   noise: 0.033\n",
      "Iter 47/50 - Loss: -0.007   lengthscale: 0.282   noise: 0.033\n",
      "Iter 48/50 - Loss: -0.008   lengthscale: 0.277   noise: 0.033\n",
      "Iter 49/50 - Loss: -0.009   lengthscale: 0.273   noise: 0.034\n",
      "Iter 50/50 - Loss: -0.011   lengthscale: 0.268   noise: 0.034\n"
     ]
    }
   ],
   "source": [
    "# # this is for running the notebook in our testing framework\n",
    "# import os\n",
    "# smoke_test = ('CI' in os.environ)\n",
    "# training_iter = 2 if smoke_test else 50\n",
    "training_iter = 50\n",
    "\n",
    "# Find optimal model hyperparameters\n",
    "model.train()\n",
    "likelihood.train()\n",
    "\n",
    "# Use the adam optimizer\n",
    "optimizer = torch.optim.Adam(model.parameters(), lr=0.09)  # Includes GaussianLikelihood parameters\n",
    "\n",
    "# \"Loss\" for GPs - the marginal log likelihood\n",
    "mll = gpytorch.mlls.ExactMarginalLogLikelihood(likelihood, model)\n",
    "\n",
    "for i in range(training_iter):\n",
    "    # Zero gradients from previous iteration\n",
    "    optimizer.zero_grad()\n",
    "    # Output from model\n",
    "    output = model(train_x)\n",
    "    # Calc loss and backprop gradients\n",
    "    loss = -mll(output, train_y)\n",
    "    loss.backward()\n",
    "    print('Iter %d/%d - Loss: %.3f   lengthscale: %.3f   noise: %.3f' % (\n",
    "        i + 1, training_iter, loss.item(),\n",
    "        model.covar_module.base_kernel.lengthscale.item(),\n",
    "        model.likelihood.noise.item()\n",
    "    ))\n",
    "    optimizer.step()"
   ]
  },
  {
   "cell_type": "markdown",
   "metadata": {},
   "source": [
    "#### Make predictions with the model"
   ]
  },
  {
   "cell_type": "markdown",
   "metadata": {},
   "source": [
    "To do this, we simply put the model and likelihood in eval mode, and call both modules on the test data. \\\n",
    "Just as a user defined GP model returns a MultivariateNormal containing the prior mean and covariance from forward, \\\n",
    "a trained GP model in eval mode returns a MultivariateNormal containing the `posterior` mean and covariance."
   ]
  },
  {
   "cell_type": "markdown",
   "metadata": {},
   "source": [
    "If we denote a test point (test_x) as x* with the true output being y*, then model(test_x) returns the model posterior distribution `p(f* | x*, X, y)`, \\\n",
    "for training data X, y. This posterior is the distribution over the function we are trying to model, and thus quantifies our model uncertainty.\n",
    "\n",
    "In contrast, likelihood(model(test_x)) gives us the posterior predictive distribution `p(y* | x*, X, y)` \\\n",
    "which is the probability distribution over the predicted output value. Recall in our problem setup"
   ]
  },
  {
   "cell_type": "markdown",
   "metadata": {},
   "source": [
    "posterior distribution p(f* ) -> uncertainty over the function f(x)\n",
    "posterior predictive distribution p(y* ) -> observed output values y* \\\n",
    "- combines the uncertainty in the underlying func + observed noise"
   ]
  },
  {
   "attachments": {
    "image.png": {
     "image/png": "[encoded data removed]"
    }
   },
   "cell_type": "markdown",
   "metadata": {},
   "source": [
    "![image.png](attachment:image.png)"
   ]
  },
  {
   "cell_type": "code",
   "execution_count": 25,
   "metadata": {},
   "outputs": [],
   "source": [
    "# Get into evaluation (predictive posterior) mode\n",
    "model.eval()\n",
    "likelihood.eval()\n",
    "\n",
    "# Test points are regularly spaced along [0,1]\n",
    "# Make predictions by feeding model through likelihood\n",
    "with torch.no_grad(), gpytorch.settings.fast_pred_var():\n",
    "    test_x = torch.linspace(0, 1, 51)\n",
    "    observed_pred = likelihood(model(test_x))"
   ]
  },
  {
   "cell_type": "code",
   "execution_count": 27,
   "metadata": {},
   "outputs": [
    {
     "name": "stdout",
     "output_type": "stream",
     "text": [
      "<class 'gpytorch.distributions.multivariate_normal.MultivariateNormal'>\n"
     ]
    }
   ],
   "source": [
    "print(type(f_preds))\n"
   ]
  },
  {
   "cell_type": "code",
   "execution_count": 34,
   "metadata": {},
   "outputs": [
    {
     "name": "stdout",
     "output_type": "stream",
     "text": [
      "tensor([[-0.0423,  0.1032,  0.2529,  ..., -0.2305, -0.1233, -0.0043],\n",
      "        [ 0.0393,  0.1827,  0.3103,  ..., -0.3142, -0.2534, -0.2016],\n",
      "        [ 0.0543,  0.1449,  0.2536,  ..., -0.2730, -0.1748, -0.0732],\n",
      "        ...,\n",
      "        [-0.0357,  0.0733,  0.1835,  ..., -0.2630, -0.2119, -0.1869],\n",
      "        [ 0.0638,  0.1464,  0.2397,  ..., -0.2810, -0.1805, -0.0872],\n",
      "        [ 0.1388,  0.2202,  0.3041,  ..., -0.2298, -0.1603, -0.0881]])\n"
     ]
    }
   ],
   "source": [
    "f_preds = model(test_x)\n",
    "y_preds = likelihood(model(test_x))\n",
    "\n",
    "f_mean = f_preds.mean\n",
    "f_var = f_preds.variance\n",
    "f_covar = f_preds.covariance_matrix\n",
    "f_samples = f_preds.sample(sample_shape=torch.Size({1000}))\n",
    "print(f_samples)"
   ]
  },
  {
   "cell_type": "markdown",
   "metadata": {},
   "source": [
    "#### Plot the model fit\n",
    "We plot the mean and confidence region of the Gaussian process model. \\\n",
    "The confidence_region method is a helper method that returns 2 standard deviations above and below the mean."
   ]
  },
  {
   "cell_type": "code",
   "execution_count": 29,
   "metadata": {},
   "outputs": [
    {
     "data": {
      "image/png": "[encoded data removed]",
      "text/plain": [
       "<Figure size 400x300 with 1 Axes>"
      ]
     },
     "metadata": {},
     "output_type": "display_data"
    }
   ],
   "source": [
    "with torch.no_grad():\n",
    "    # Initialize plot\n",
    "    f, ax = plt.subplots(1, 1, figsize=(4, 3))\n",
    "\n",
    "    # Get upper and lower confidence bounds\n",
    "    lower, upper = observed_pred.confidence_region()\n",
    "    # Plot training data as black stars\n",
    "    ax.plot(train_x.numpy(), train_y.numpy(), 'k*')\n",
    "    # Plot predictive means as blue line\n",
    "    ax.plot(test_x.numpy(), observed_pred.mean.numpy(), 'b')\n",
    "    # Shade between the lower and upper confidence bounds\n",
    "    ax.fill_between(test_x.numpy(), lower.numpy(), upper.numpy(), alpha=0.5)\n",
    "    ax.set_ylim([-3, 3])\n",
    "    ax.legend(['Observed Data', 'Mean', 'Confidence'])"
   ]
  }
 ],
 "metadata": {
  "kernelspec": {
   "display_name": "Python 3",
   "language": "python",
   "name": "python3"
  },
  "language_info": {
   "codemirror_mode": {
    "name": "ipython",
    "version": 3
   },
   "file_extension": ".py",
   "mimetype": "text/x-python",
   "name": "python",
   "nbconvert_exporter": "python",
   "pygments_lexer": "ipython3",
   "version": "3.12.4"
  }
 },
 "nbformat": 4,
 "nbformat_minor": 2
}
